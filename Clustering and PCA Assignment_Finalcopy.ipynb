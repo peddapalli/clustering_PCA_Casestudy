{
 "cells": [
  {
   "cell_type": "markdown",
   "metadata": {},
   "source": [
    "# Clustering of countries \n",
    "\n",
    "The steps are broadly:\n",
    "1. Reading and understanding the data\n",
    "2. Cleaning the data\n",
    "3. Preparing the data for modelling\n",
    "4. Modelling\n",
    "5. Final analysis and recomendations\n",
    "\n",
    "\n",
    "\n"
   ]
  },
  {
   "cell_type": "code",
   "execution_count": 1,
   "metadata": {},
   "outputs": [],
   "source": [
    "# Importing all required data libraries \n",
    "# Reading and understanding the data\n",
    "\n",
    "import numpy as np\n",
    "import pandas as pd\n",
    "import matplotlib.pyplot as plt\n",
    "import seaborn as sns\n",
    "%matplotlib inline\n",
    "\n",
    "# For scaling data\n",
    "import sklearn\n",
    "from sklearn.preprocessing import StandardScaler\n",
    "from sklearn.preprocessing import scale\n",
    "\n",
    "# for performing k-means clustering\n",
    "from sklearn.decomposition import IncrementalPCA\n",
    "from sklearn.cluster import KMeans\n",
    "\n",
    "# for rescaling\n",
    "from sklearn.decomposition import PCA\n",
    "\n",
    "# for performing hirerarchical clustering\n",
    "from scipy.cluster.hierarchy import linkage\n",
    "from scipy.cluster.hierarchy import dendrogram\n",
    "from scipy.cluster.hierarchy import cut_tree"
   ]
  },
  {
   "cell_type": "code",
   "execution_count": 2,
   "metadata": {},
   "outputs": [
    {
     "data": {
      "text/html": [
       "<div>\n",
       "<style scoped>\n",
       "    .dataframe tbody tr th:only-of-type {\n",
       "        vertical-align: middle;\n",
       "    }\n",
       "\n",
       "    .dataframe tbody tr th {\n",
       "        vertical-align: top;\n",
       "    }\n",
       "\n",
       "    .dataframe thead th {\n",
       "        text-align: right;\n",
       "    }\n",
       "</style>\n",
       "<table border=\"1\" class=\"dataframe\">\n",
       "  <thead>\n",
       "    <tr style=\"text-align: right;\">\n",
       "      <th></th>\n",
       "      <th>country</th>\n",
       "      <th>child_mort</th>\n",
       "      <th>exports</th>\n",
       "      <th>health</th>\n",
       "      <th>imports</th>\n",
       "      <th>income</th>\n",
       "      <th>inflation</th>\n",
       "      <th>life_expec</th>\n",
       "      <th>total_fer</th>\n",
       "      <th>gdpp</th>\n",
       "    </tr>\n",
       "  </thead>\n",
       "  <tbody>\n",
       "    <tr>\n",
       "      <th>0</th>\n",
       "      <td>Afghanistan</td>\n",
       "      <td>90.2</td>\n",
       "      <td>10.0</td>\n",
       "      <td>7.58</td>\n",
       "      <td>44.9</td>\n",
       "      <td>1610</td>\n",
       "      <td>9.44</td>\n",
       "      <td>56.2</td>\n",
       "      <td>5.82</td>\n",
       "      <td>553</td>\n",
       "    </tr>\n",
       "    <tr>\n",
       "      <th>1</th>\n",
       "      <td>Albania</td>\n",
       "      <td>16.6</td>\n",
       "      <td>28.0</td>\n",
       "      <td>6.55</td>\n",
       "      <td>48.6</td>\n",
       "      <td>9930</td>\n",
       "      <td>4.49</td>\n",
       "      <td>76.3</td>\n",
       "      <td>1.65</td>\n",
       "      <td>4090</td>\n",
       "    </tr>\n",
       "    <tr>\n",
       "      <th>2</th>\n",
       "      <td>Algeria</td>\n",
       "      <td>27.3</td>\n",
       "      <td>38.4</td>\n",
       "      <td>4.17</td>\n",
       "      <td>31.4</td>\n",
       "      <td>12900</td>\n",
       "      <td>16.10</td>\n",
       "      <td>76.5</td>\n",
       "      <td>2.89</td>\n",
       "      <td>4460</td>\n",
       "    </tr>\n",
       "    <tr>\n",
       "      <th>3</th>\n",
       "      <td>Angola</td>\n",
       "      <td>119.0</td>\n",
       "      <td>62.3</td>\n",
       "      <td>2.85</td>\n",
       "      <td>42.9</td>\n",
       "      <td>5900</td>\n",
       "      <td>22.40</td>\n",
       "      <td>60.1</td>\n",
       "      <td>6.16</td>\n",
       "      <td>3530</td>\n",
       "    </tr>\n",
       "    <tr>\n",
       "      <th>4</th>\n",
       "      <td>Antigua and Barbuda</td>\n",
       "      <td>10.3</td>\n",
       "      <td>45.5</td>\n",
       "      <td>6.03</td>\n",
       "      <td>58.9</td>\n",
       "      <td>19100</td>\n",
       "      <td>1.44</td>\n",
       "      <td>76.8</td>\n",
       "      <td>2.13</td>\n",
       "      <td>12200</td>\n",
       "    </tr>\n",
       "  </tbody>\n",
       "</table>\n",
       "</div>"
      ],
      "text/plain": [
       "               country  child_mort  exports  health  imports  income  \\\n",
       "0          Afghanistan        90.2     10.0    7.58     44.9    1610   \n",
       "1              Albania        16.6     28.0    6.55     48.6    9930   \n",
       "2              Algeria        27.3     38.4    4.17     31.4   12900   \n",
       "3               Angola       119.0     62.3    2.85     42.9    5900   \n",
       "4  Antigua and Barbuda        10.3     45.5    6.03     58.9   19100   \n",
       "\n",
       "   inflation  life_expec  total_fer   gdpp  \n",
       "0       9.44        56.2       5.82    553  \n",
       "1       4.49        76.3       1.65   4090  \n",
       "2      16.10        76.5       2.89   4460  \n",
       "3      22.40        60.1       6.16   3530  \n",
       "4       1.44        76.8       2.13  12200  "
      ]
     },
     "execution_count": 2,
     "metadata": {},
     "output_type": "execute_result"
    }
   ],
   "source": [
    "# 1) Reading and understanding the dataset\n",
    "country_df = pd.read_csv(r'C:\\Users\\vamshipeddapalli\\Desktop\\Data_science_IIIT\\Main_course\\Modules\\clustering assignment\\Country-data.csv')\n",
    "country_df.head()"
   ]
  },
  {
   "cell_type": "code",
   "execution_count": 3,
   "metadata": {},
   "outputs": [
    {
     "data": {
      "text/plain": [
       "(167, 10)"
      ]
     },
     "execution_count": 3,
     "metadata": {},
     "output_type": "execute_result"
    }
   ],
   "source": [
    "# Basics of thecountry data frame\n",
    "country_df.shape"
   ]
  },
  {
   "cell_type": "code",
   "execution_count": 4,
   "metadata": {},
   "outputs": [
    {
     "name": "stdout",
     "output_type": "stream",
     "text": [
      "<class 'pandas.core.frame.DataFrame'>\n",
      "RangeIndex: 167 entries, 0 to 166\n",
      "Data columns (total 10 columns):\n",
      "country       167 non-null object\n",
      "child_mort    167 non-null float64\n",
      "exports       167 non-null float64\n",
      "health        167 non-null float64\n",
      "imports       167 non-null float64\n",
      "income        167 non-null int64\n",
      "inflation     167 non-null float64\n",
      "life_expec    167 non-null float64\n",
      "total_fer     167 non-null float64\n",
      "gdpp          167 non-null int64\n",
      "dtypes: float64(7), int64(2), object(1)\n",
      "memory usage: 13.1+ KB\n"
     ]
    }
   ],
   "source": [
    "country_df.info()"
   ]
  },
  {
   "cell_type": "code",
   "execution_count": 5,
   "metadata": {},
   "outputs": [
    {
     "data": {
      "text/html": [
       "<div>\n",
       "<style scoped>\n",
       "    .dataframe tbody tr th:only-of-type {\n",
       "        vertical-align: middle;\n",
       "    }\n",
       "\n",
       "    .dataframe tbody tr th {\n",
       "        vertical-align: top;\n",
       "    }\n",
       "\n",
       "    .dataframe thead th {\n",
       "        text-align: right;\n",
       "    }\n",
       "</style>\n",
       "<table border=\"1\" class=\"dataframe\">\n",
       "  <thead>\n",
       "    <tr style=\"text-align: right;\">\n",
       "      <th></th>\n",
       "      <th>child_mort</th>\n",
       "      <th>exports</th>\n",
       "      <th>health</th>\n",
       "      <th>imports</th>\n",
       "      <th>income</th>\n",
       "      <th>inflation</th>\n",
       "      <th>life_expec</th>\n",
       "      <th>total_fer</th>\n",
       "      <th>gdpp</th>\n",
       "    </tr>\n",
       "  </thead>\n",
       "  <tbody>\n",
       "    <tr>\n",
       "      <th>count</th>\n",
       "      <td>167.000000</td>\n",
       "      <td>167.000000</td>\n",
       "      <td>167.000000</td>\n",
       "      <td>167.000000</td>\n",
       "      <td>167.000000</td>\n",
       "      <td>167.000000</td>\n",
       "      <td>167.000000</td>\n",
       "      <td>167.000000</td>\n",
       "      <td>167.000000</td>\n",
       "    </tr>\n",
       "    <tr>\n",
       "      <th>mean</th>\n",
       "      <td>38.270060</td>\n",
       "      <td>41.108976</td>\n",
       "      <td>6.815689</td>\n",
       "      <td>46.890215</td>\n",
       "      <td>17144.688623</td>\n",
       "      <td>7.781832</td>\n",
       "      <td>70.555689</td>\n",
       "      <td>2.947964</td>\n",
       "      <td>12964.155689</td>\n",
       "    </tr>\n",
       "    <tr>\n",
       "      <th>std</th>\n",
       "      <td>40.328931</td>\n",
       "      <td>27.412010</td>\n",
       "      <td>2.746837</td>\n",
       "      <td>24.209589</td>\n",
       "      <td>19278.067698</td>\n",
       "      <td>10.570704</td>\n",
       "      <td>8.893172</td>\n",
       "      <td>1.513848</td>\n",
       "      <td>18328.704809</td>\n",
       "    </tr>\n",
       "    <tr>\n",
       "      <th>min</th>\n",
       "      <td>2.600000</td>\n",
       "      <td>0.109000</td>\n",
       "      <td>1.810000</td>\n",
       "      <td>0.065900</td>\n",
       "      <td>609.000000</td>\n",
       "      <td>-4.210000</td>\n",
       "      <td>32.100000</td>\n",
       "      <td>1.150000</td>\n",
       "      <td>231.000000</td>\n",
       "    </tr>\n",
       "    <tr>\n",
       "      <th>25%</th>\n",
       "      <td>8.250000</td>\n",
       "      <td>23.800000</td>\n",
       "      <td>4.920000</td>\n",
       "      <td>30.200000</td>\n",
       "      <td>3355.000000</td>\n",
       "      <td>1.810000</td>\n",
       "      <td>65.300000</td>\n",
       "      <td>1.795000</td>\n",
       "      <td>1330.000000</td>\n",
       "    </tr>\n",
       "    <tr>\n",
       "      <th>50%</th>\n",
       "      <td>19.300000</td>\n",
       "      <td>35.000000</td>\n",
       "      <td>6.320000</td>\n",
       "      <td>43.300000</td>\n",
       "      <td>9960.000000</td>\n",
       "      <td>5.390000</td>\n",
       "      <td>73.100000</td>\n",
       "      <td>2.410000</td>\n",
       "      <td>4660.000000</td>\n",
       "    </tr>\n",
       "    <tr>\n",
       "      <th>75%</th>\n",
       "      <td>62.100000</td>\n",
       "      <td>51.350000</td>\n",
       "      <td>8.600000</td>\n",
       "      <td>58.750000</td>\n",
       "      <td>22800.000000</td>\n",
       "      <td>10.750000</td>\n",
       "      <td>76.800000</td>\n",
       "      <td>3.880000</td>\n",
       "      <td>14050.000000</td>\n",
       "    </tr>\n",
       "    <tr>\n",
       "      <th>max</th>\n",
       "      <td>208.000000</td>\n",
       "      <td>200.000000</td>\n",
       "      <td>17.900000</td>\n",
       "      <td>174.000000</td>\n",
       "      <td>125000.000000</td>\n",
       "      <td>104.000000</td>\n",
       "      <td>82.800000</td>\n",
       "      <td>7.490000</td>\n",
       "      <td>105000.000000</td>\n",
       "    </tr>\n",
       "  </tbody>\n",
       "</table>\n",
       "</div>"
      ],
      "text/plain": [
       "       child_mort     exports      health     imports         income  \\\n",
       "count  167.000000  167.000000  167.000000  167.000000     167.000000   \n",
       "mean    38.270060   41.108976    6.815689   46.890215   17144.688623   \n",
       "std     40.328931   27.412010    2.746837   24.209589   19278.067698   \n",
       "min      2.600000    0.109000    1.810000    0.065900     609.000000   \n",
       "25%      8.250000   23.800000    4.920000   30.200000    3355.000000   \n",
       "50%     19.300000   35.000000    6.320000   43.300000    9960.000000   \n",
       "75%     62.100000   51.350000    8.600000   58.750000   22800.000000   \n",
       "max    208.000000  200.000000   17.900000  174.000000  125000.000000   \n",
       "\n",
       "        inflation  life_expec   total_fer           gdpp  \n",
       "count  167.000000  167.000000  167.000000     167.000000  \n",
       "mean     7.781832   70.555689    2.947964   12964.155689  \n",
       "std     10.570704    8.893172    1.513848   18328.704809  \n",
       "min     -4.210000   32.100000    1.150000     231.000000  \n",
       "25%      1.810000   65.300000    1.795000    1330.000000  \n",
       "50%      5.390000   73.100000    2.410000    4660.000000  \n",
       "75%     10.750000   76.800000    3.880000   14050.000000  \n",
       "max    104.000000   82.800000    7.490000  105000.000000  "
      ]
     },
     "execution_count": 5,
     "metadata": {},
     "output_type": "execute_result"
    }
   ],
   "source": [
    "country_df.describe()"
   ]
  },
  {
   "cell_type": "code",
   "execution_count": 6,
   "metadata": {},
   "outputs": [
    {
     "data": {
      "text/plain": [
       "country       0.0\n",
       "child_mort    0.0\n",
       "exports       0.0\n",
       "health        0.0\n",
       "imports       0.0\n",
       "income        0.0\n",
       "inflation     0.0\n",
       "life_expec    0.0\n",
       "total_fer     0.0\n",
       "gdpp          0.0\n",
       "dtype: float64"
      ]
     },
     "execution_count": 6,
     "metadata": {},
     "output_type": "execute_result"
    }
   ],
   "source": [
    "# 2) Cleaning the data\n",
    "#Finding out missing values \n",
    "round(100*(country_df.isnull().sum())/len(country_df), 2)"
   ]
  },
  {
   "cell_type": "markdown",
   "metadata": {},
   "source": [
    "we can see we don\\t hav e any null values here to drop or to immute.\n",
    "\n",
    "\n",
    "\n"
   ]
  },
  {
   "cell_type": "code",
   "execution_count": 7,
   "metadata": {},
   "outputs": [
    {
     "data": {
      "text/plain": [
       "<matplotlib.axes._subplots.AxesSubplot at 0x2978c207780>"
      ]
     },
     "execution_count": 7,
     "metadata": {},
     "output_type": "execute_result"
    },
    {
     "data": {
      "image/png": "[encoded data removed]",
      "text/plain": [
       "<Figure size 1440x1080 with 2 Axes>"
      ]
     },
     "metadata": {
      "needs_background": "light"
     },
     "output_type": "display_data"
    }
   ],
   "source": [
    "# 3) Preparing the data for modelling\n",
    "# we need to find weather the data is highly corelated or not so that we can confirm weather the usage of PCA is valid or not \n",
    "plt.figure(figsize  =(20,15))\n",
    "sns.heatmap(country_df.corr(),annot = True)\n"
   ]
  },
  {
   "cell_type": "markdown",
   "metadata": {},
   "source": [
    "The above plot justifies highly corelated variables do exist. "
   ]
  },
  {
   "cell_type": "code",
   "execution_count": 8,
   "metadata": {},
   "outputs": [
    {
     "data": {
      "text/html": [
       "<div>\n",
       "<style scoped>\n",
       "    .dataframe tbody tr th:only-of-type {\n",
       "        vertical-align: middle;\n",
       "    }\n",
       "\n",
       "    .dataframe tbody tr th {\n",
       "        vertical-align: top;\n",
       "    }\n",
       "\n",
       "    .dataframe thead th {\n",
       "        text-align: right;\n",
       "    }\n",
       "</style>\n",
       "<table border=\"1\" class=\"dataframe\">\n",
       "  <thead>\n",
       "    <tr style=\"text-align: right;\">\n",
       "      <th></th>\n",
       "      <th>child_mort</th>\n",
       "      <th>exports</th>\n",
       "      <th>health</th>\n",
       "      <th>imports</th>\n",
       "      <th>income</th>\n",
       "      <th>inflation</th>\n",
       "      <th>life_expec</th>\n",
       "      <th>total_fer</th>\n",
       "      <th>gdpp</th>\n",
       "    </tr>\n",
       "  </thead>\n",
       "  <tbody>\n",
       "    <tr>\n",
       "      <th>0</th>\n",
       "      <td>90.2</td>\n",
       "      <td>10.0</td>\n",
       "      <td>7.58</td>\n",
       "      <td>44.9</td>\n",
       "      <td>1610</td>\n",
       "      <td>9.44</td>\n",
       "      <td>56.2</td>\n",
       "      <td>5.82</td>\n",
       "      <td>553</td>\n",
       "    </tr>\n",
       "    <tr>\n",
       "      <th>1</th>\n",
       "      <td>16.6</td>\n",
       "      <td>28.0</td>\n",
       "      <td>6.55</td>\n",
       "      <td>48.6</td>\n",
       "      <td>9930</td>\n",
       "      <td>4.49</td>\n",
       "      <td>76.3</td>\n",
       "      <td>1.65</td>\n",
       "      <td>4090</td>\n",
       "    </tr>\n",
       "    <tr>\n",
       "      <th>2</th>\n",
       "      <td>27.3</td>\n",
       "      <td>38.4</td>\n",
       "      <td>4.17</td>\n",
       "      <td>31.4</td>\n",
       "      <td>12900</td>\n",
       "      <td>16.10</td>\n",
       "      <td>76.5</td>\n",
       "      <td>2.89</td>\n",
       "      <td>4460</td>\n",
       "    </tr>\n",
       "    <tr>\n",
       "      <th>3</th>\n",
       "      <td>119.0</td>\n",
       "      <td>62.3</td>\n",
       "      <td>2.85</td>\n",
       "      <td>42.9</td>\n",
       "      <td>5900</td>\n",
       "      <td>22.40</td>\n",
       "      <td>60.1</td>\n",
       "      <td>6.16</td>\n",
       "      <td>3530</td>\n",
       "    </tr>\n",
       "    <tr>\n",
       "      <th>4</th>\n",
       "      <td>10.3</td>\n",
       "      <td>45.5</td>\n",
       "      <td>6.03</td>\n",
       "      <td>58.9</td>\n",
       "      <td>19100</td>\n",
       "      <td>1.44</td>\n",
       "      <td>76.8</td>\n",
       "      <td>2.13</td>\n",
       "      <td>12200</td>\n",
       "    </tr>\n",
       "  </tbody>\n",
       "</table>\n",
       "</div>"
      ],
      "text/plain": [
       "   child_mort  exports  health  imports  income  inflation  life_expec  \\\n",
       "0        90.2     10.0    7.58     44.9    1610       9.44        56.2   \n",
       "1        16.6     28.0    6.55     48.6    9930       4.49        76.3   \n",
       "2        27.3     38.4    4.17     31.4   12900      16.10        76.5   \n",
       "3       119.0     62.3    2.85     42.9    5900      22.40        60.1   \n",
       "4        10.3     45.5    6.03     58.9   19100       1.44        76.8   \n",
       "\n",
       "   total_fer   gdpp  \n",
       "0       5.82    553  \n",
       "1       1.65   4090  \n",
       "2       2.89   4460  \n",
       "3       6.16   3530  \n",
       "4       2.13  12200  "
      ]
     },
     "execution_count": 8,
     "metadata": {},
     "output_type": "execute_result"
    }
   ],
   "source": [
    "# Rescaling the data so that PCA can be applied, but before rescaling we need to remove columns which we don't use. \n",
    "#So we are removing country column \n",
    "df1=country_df.drop(['country'],axis=1)\n",
    "df1.head()"
   ]
  },
  {
   "cell_type": "code",
   "execution_count": 9,
   "metadata": {},
   "outputs": [
    {
     "name": "stderr",
     "output_type": "stream",
     "text": [
      "O:\\AAnaconda_IIIT\\lib\\site-packages\\sklearn\\preprocessing\\data.py:645: DataConversionWarning: Data with input dtype int64, float64 were all converted to float64 by StandardScaler.\n",
      "  return self.partial_fit(X, y)\n",
      "O:\\AAnaconda_IIIT\\lib\\site-packages\\sklearn\\base.py:464: DataConversionWarning: Data with input dtype int64, float64 were all converted to float64 by StandardScaler.\n",
      "  return self.fit(X, **fit_params).transform(X)\n"
     ]
    },
    {
     "data": {
      "text/plain": [
       "array([[ 1.29153238, -1.13827979,  0.27908825, ..., -1.61909203,\n",
       "         1.90288227, -0.67917961],\n",
       "       [-0.5389489 , -0.47965843, -0.09701618, ...,  0.64786643,\n",
       "        -0.85997281, -0.48562324],\n",
       "       [-0.27283273, -0.09912164, -0.96607302, ...,  0.67042323,\n",
       "        -0.0384044 , -0.46537561],\n",
       "       ...,\n",
       "       [-0.37231541,  1.13030491,  0.0088773 , ...,  0.28695762,\n",
       "        -0.66120626, -0.63775406],\n",
       "       [ 0.44841668, -0.40647827, -0.59727159, ..., -0.34463279,\n",
       "         1.14094382, -0.63775406],\n",
       "       [ 1.11495062, -0.15034774, -0.33801514, ..., -2.09278484,\n",
       "         1.6246091 , -0.62954556]])"
      ]
     },
     "execution_count": 9,
     "metadata": {},
     "output_type": "execute_result"
    }
   ],
   "source": [
    "# rescaling the data\n",
    "df2 = StandardScaler().fit_transform(df1)\n",
    "df2"
   ]
  },
  {
   "cell_type": "code",
   "execution_count": 10,
   "metadata": {},
   "outputs": [
    {
     "data": {
      "text/plain": [
       "PCA(copy=True, iterated_power='auto', n_components=None, random_state=42,\n",
       "  svd_solver='randomized', tol=0.0, whiten=False)"
      ]
     },
     "execution_count": 10,
     "metadata": {},
     "output_type": "execute_result"
    }
   ],
   "source": [
    "pca = PCA(svd_solver='randomized', random_state=42)\n",
    "pca"
   ]
  },
  {
   "cell_type": "code",
   "execution_count": 11,
   "metadata": {},
   "outputs": [
    {
     "data": {
      "text/plain": [
       "PCA(copy=True, iterated_power='auto', n_components=None, random_state=42,\n",
       "  svd_solver='randomized', tol=0.0, whiten=False)"
      ]
     },
     "execution_count": 11,
     "metadata": {},
     "output_type": "execute_result"
    }
   ],
   "source": [
    "#Applying PCA on df2\n",
    "pca.fit(df2)"
   ]
  },
  {
   "cell_type": "code",
   "execution_count": 12,
   "metadata": {},
   "outputs": [
    {
     "data": {
      "text/plain": [
       "array([[-0.41951945,  0.28389698,  0.15083782,  0.16148244,  0.39844111,\n",
       "        -0.19317293,  0.42583938, -0.40372896,  0.39264482],\n",
       "       [ 0.19288394,  0.61316349, -0.24308678,  0.67182064,  0.02253553,\n",
       "        -0.00840447, -0.22270674,  0.15523311, -0.0460224 ],\n",
       "       [-0.02954353,  0.14476069, -0.59663237, -0.29992674,  0.3015475 ,\n",
       "         0.64251951,  0.11391854,  0.01954925,  0.12297749],\n",
       "       [ 0.37065326,  0.00309102,  0.4618975 , -0.07190746,  0.39215904,\n",
       "         0.15044176, -0.20379723,  0.37830365,  0.53199457],\n",
       "       [-0.16896968,  0.05761584,  0.51800037,  0.25537642, -0.2471496 ,\n",
       "         0.7148691 ,  0.1082198 , -0.13526221, -0.18016662],\n",
       "       [ 0.20062815, -0.05933283,  0.00727646, -0.03003154,  0.16034699,\n",
       "         0.06628537, -0.60112652, -0.75068875,  0.01677876],\n",
       "       [-0.07948854, -0.70730269, -0.24983051,  0.59218953,  0.09556237,\n",
       "         0.10463252,  0.01848639,  0.02882643,  0.24299776],\n",
       "       [-0.68274306, -0.01419742,  0.07249683, -0.02894642,  0.35262369,\n",
       "        -0.01153775, -0.50466425,  0.29335267, -0.24969636],\n",
       "       [ 0.3275418 , -0.12308207,  0.11308797,  0.09903717,  0.61298247,\n",
       "        -0.02523614,  0.29403981, -0.02633585, -0.62564572]])"
      ]
     },
     "execution_count": 12,
     "metadata": {},
     "output_type": "execute_result"
    }
   ],
   "source": [
    "pca.components_"
   ]
  },
  {
   "cell_type": "code",
   "execution_count": 13,
   "metadata": {},
   "outputs": [
    {
     "data": {
      "text/plain": [
       "array([0.4595174 , 0.17181626, 0.13004259, 0.11053162, 0.07340211,\n",
       "       0.02484235, 0.0126043 , 0.00981282, 0.00743056])"
      ]
     },
     "execution_count": 13,
     "metadata": {},
     "output_type": "execute_result"
    }
   ],
   "source": [
    "#Looking at the screeplot to assess the number of needed principal components\n",
    "pca.explained_variance_ratio_"
   ]
  },
  {
   "cell_type": "code",
   "execution_count": 14,
   "metadata": {},
   "outputs": [
    {
     "data": {
      "image/png": "[encoded data removed]",
      "text/plain": [
       "<Figure size 864x576 with 1 Axes>"
      ]
     },
     "metadata": {
      "needs_background": "light"
     },
     "output_type": "display_data"
    }
   ],
   "source": [
    "# scree plot - plotting the cumulative variance against the number of components\n",
    "%matplotlib inline\n",
    "fig = plt.figure(figsize = (12,8))\n",
    "plt.plot(np.cumsum(pca.explained_variance_ratio_))\n",
    "plt.xlabel('Number of components')\n",
    "plt.ylabel('cumulative explained variance')\n",
    "plt.show()\n"
   ]
  },
  {
   "cell_type": "code",
   "execution_count": 15,
   "metadata": {},
   "outputs": [],
   "source": [
    "#Looks like 3 components are enough to describe 90% of the variance in the dataset\n",
    "#We'll choose 3 components for our modeling"
   ]
  },
  {
   "cell_type": "code",
   "execution_count": 16,
   "metadata": {},
   "outputs": [
    {
     "data": {
      "text/html": [
       "<div>\n",
       "<style scoped>\n",
       "    .dataframe tbody tr th:only-of-type {\n",
       "        vertical-align: middle;\n",
       "    }\n",
       "\n",
       "    .dataframe tbody tr th {\n",
       "        vertical-align: top;\n",
       "    }\n",
       "\n",
       "    .dataframe thead th {\n",
       "        text-align: right;\n",
       "    }\n",
       "</style>\n",
       "<table border=\"1\" class=\"dataframe\">\n",
       "  <thead>\n",
       "    <tr style=\"text-align: right;\">\n",
       "      <th></th>\n",
       "      <th>Feature</th>\n",
       "      <th>PC1</th>\n",
       "      <th>PC2</th>\n",
       "      <th>PC3</th>\n",
       "    </tr>\n",
       "  </thead>\n",
       "  <tbody>\n",
       "    <tr>\n",
       "      <th>0</th>\n",
       "      <td>child_mort</td>\n",
       "      <td>-0.419519</td>\n",
       "      <td>0.192884</td>\n",
       "      <td>-0.029544</td>\n",
       "    </tr>\n",
       "    <tr>\n",
       "      <th>1</th>\n",
       "      <td>exports</td>\n",
       "      <td>0.283897</td>\n",
       "      <td>0.613163</td>\n",
       "      <td>0.144761</td>\n",
       "    </tr>\n",
       "    <tr>\n",
       "      <th>2</th>\n",
       "      <td>health</td>\n",
       "      <td>0.150838</td>\n",
       "      <td>-0.243087</td>\n",
       "      <td>-0.596632</td>\n",
       "    </tr>\n",
       "    <tr>\n",
       "      <th>3</th>\n",
       "      <td>imports</td>\n",
       "      <td>0.161482</td>\n",
       "      <td>0.671821</td>\n",
       "      <td>-0.299927</td>\n",
       "    </tr>\n",
       "    <tr>\n",
       "      <th>4</th>\n",
       "      <td>income</td>\n",
       "      <td>0.398441</td>\n",
       "      <td>0.022536</td>\n",
       "      <td>0.301548</td>\n",
       "    </tr>\n",
       "    <tr>\n",
       "      <th>5</th>\n",
       "      <td>inflation</td>\n",
       "      <td>-0.193173</td>\n",
       "      <td>-0.008404</td>\n",
       "      <td>0.642520</td>\n",
       "    </tr>\n",
       "    <tr>\n",
       "      <th>6</th>\n",
       "      <td>life_expec</td>\n",
       "      <td>0.425839</td>\n",
       "      <td>-0.222707</td>\n",
       "      <td>0.113919</td>\n",
       "    </tr>\n",
       "    <tr>\n",
       "      <th>7</th>\n",
       "      <td>total_fer</td>\n",
       "      <td>-0.403729</td>\n",
       "      <td>0.155233</td>\n",
       "      <td>0.019549</td>\n",
       "    </tr>\n",
       "    <tr>\n",
       "      <th>8</th>\n",
       "      <td>gdpp</td>\n",
       "      <td>0.392645</td>\n",
       "      <td>-0.046022</td>\n",
       "      <td>0.122977</td>\n",
       "    </tr>\n",
       "  </tbody>\n",
       "</table>\n",
       "</div>"
      ],
      "text/plain": [
       "      Feature       PC1       PC2       PC3\n",
       "0  child_mort -0.419519  0.192884 -0.029544\n",
       "1     exports  0.283897  0.613163  0.144761\n",
       "2      health  0.150838 -0.243087 -0.596632\n",
       "3     imports  0.161482  0.671821 -0.299927\n",
       "4      income  0.398441  0.022536  0.301548\n",
       "5   inflation -0.193173 -0.008404  0.642520\n",
       "6  life_expec  0.425839 -0.222707  0.113919\n",
       "7   total_fer -0.403729  0.155233  0.019549\n",
       "8        gdpp  0.392645 -0.046022  0.122977"
      ]
     },
     "execution_count": 16,
     "metadata": {},
     "output_type": "execute_result"
    }
   ],
   "source": [
    "# First three components are covering close to 90% of the data. \n",
    "# so we will be using those first three components for our clustering process\n",
    "# getting the first three pricipal components now \n",
    "columns = list(country_df.drop('country',axis=1).columns)\n",
    "principal_component_df = pd.DataFrame({ 'Feature':columns,'PC1':pca.components_[0],'PC2':pca.components_[1],'PC3':pca.components_[2]})\n",
    "principal_component_df"
   ]
  },
  {
   "cell_type": "code",
   "execution_count": 17,
   "metadata": {},
   "outputs": [
    {
     "data": {
      "image/png": "[encoded data removed]",
      "text/plain": [
       "<Figure size 576x576 with 1 Axes>"
      ]
     },
     "metadata": {
      "needs_background": "light"
     },
     "output_type": "display_data"
    }
   ],
   "source": [
    "#Let's visualise the first 2 components\n",
    "%matplotlib inline\n",
    "fig = plt.figure(figsize = (8,8))\n",
    "plt.scatter(principal_component_df.PC1, principal_component_df.PC2)\n",
    "plt.xlabel('Principal Component 1')\n",
    "plt.ylabel('Principal Component 2')\n",
    "for i, txt in enumerate(principal_component_df.Feature):\n",
    "    plt.annotate(txt, (principal_component_df.PC1[i],principal_component_df.PC2[i]))\n",
    "plt.tight_layout()\n",
    "plt.show()"
   ]
  },
  {
   "cell_type": "markdown",
   "metadata": {},
   "source": [
    "First pricipal component has lot of variables. second pricipal component has child morality and total fertility."
   ]
  },
  {
   "cell_type": "code",
   "execution_count": 18,
   "metadata": {},
   "outputs": [],
   "source": [
    "# First three components are covering close to 90% of the data. we are taking components = 3 , we will be using incremental PCA for efficiency\n",
    "principal_component_Final = IncrementalPCA(n_components=3)"
   ]
  },
  {
   "cell_type": "code",
   "execution_count": 19,
   "metadata": {},
   "outputs": [],
   "source": [
    "# now we will be projecting our original data on the first 3 PCA's\n",
    "#training PCA \n",
    "PCA_train_df = principal_component_Final.fit_transform(df2)"
   ]
  },
  {
   "cell_type": "code",
   "execution_count": 20,
   "metadata": {},
   "outputs": [
    {
     "data": {
      "text/plain": [
       "(167, 3)"
      ]
     },
     "execution_count": 20,
     "metadata": {},
     "output_type": "execute_result"
    }
   ],
   "source": [
    "# Basics of the PCA train data frame\n",
    "PCA_train_df.shape\n",
    "\n"
   ]
  },
  {
   "cell_type": "code",
   "execution_count": 21,
   "metadata": {},
   "outputs": [
    {
     "data": {
      "text/html": [
       "<div>\n",
       "<style scoped>\n",
       "    .dataframe tbody tr th:only-of-type {\n",
       "        vertical-align: middle;\n",
       "    }\n",
       "\n",
       "    .dataframe tbody tr th {\n",
       "        vertical-align: top;\n",
       "    }\n",
       "\n",
       "    .dataframe thead th {\n",
       "        text-align: right;\n",
       "    }\n",
       "</style>\n",
       "<table border=\"1\" class=\"dataframe\">\n",
       "  <thead>\n",
       "    <tr style=\"text-align: right;\">\n",
       "      <th></th>\n",
       "      <th>country</th>\n",
       "      <th>PC1</th>\n",
       "      <th>PC2</th>\n",
       "      <th>PC3</th>\n",
       "    </tr>\n",
       "  </thead>\n",
       "  <tbody>\n",
       "    <tr>\n",
       "      <th>0</th>\n",
       "      <td>Afghanistan</td>\n",
       "      <td>-2.917491</td>\n",
       "      <td>0.006782</td>\n",
       "      <td>1.149719</td>\n",
       "    </tr>\n",
       "    <tr>\n",
       "      <th>1</th>\n",
       "      <td>Albania</td>\n",
       "      <td>0.427164</td>\n",
       "      <td>-0.849421</td>\n",
       "      <td>-0.524328</td>\n",
       "    </tr>\n",
       "    <tr>\n",
       "      <th>2</th>\n",
       "      <td>Algeria</td>\n",
       "      <td>-0.270015</td>\n",
       "      <td>-0.176265</td>\n",
       "      <td>-1.555131</td>\n",
       "    </tr>\n",
       "    <tr>\n",
       "      <th>3</th>\n",
       "      <td>Angola</td>\n",
       "      <td>-2.928291</td>\n",
       "      <td>2.207142</td>\n",
       "      <td>-0.427484</td>\n",
       "    </tr>\n",
       "    <tr>\n",
       "      <th>4</th>\n",
       "      <td>Antigua and Barbuda</td>\n",
       "      <td>1.026479</td>\n",
       "      <td>-0.071315</td>\n",
       "      <td>-0.286053</td>\n",
       "    </tr>\n",
       "  </tbody>\n",
       "</table>\n",
       "</div>"
      ],
      "text/plain": [
       "               country       PC1       PC2       PC3\n",
       "0          Afghanistan -2.917491  0.006782  1.149719\n",
       "1              Albania  0.427164 -0.849421 -0.524328\n",
       "2              Algeria -0.270015 -0.176265 -1.555131\n",
       "3               Angola -2.928291  2.207142 -0.427484\n",
       "4  Antigua and Barbuda  1.026479 -0.071315 -0.286053"
      ]
     },
     "execution_count": 21,
     "metadata": {},
     "output_type": "execute_result"
    }
   ],
   "source": [
    "# we will be creating new matrix. Here we will be takin the transpose of PCA matrix \n",
    "pc = np.transpose(PCA_train_df)\n",
    "rownames = list(country_df['country'])\n",
    "pcs_df = pd.DataFrame({'country':rownames,'PC1':pc[0],'PC2':pc[1],'PC3':pc[2]})\n",
    "pcs_df.head()"
   ]
  },
  {
   "cell_type": "markdown",
   "metadata": {},
   "source": [
    "# outlier Analysis: performing the Outlier Analysis on the dataset\n",
    "\n",
    "\n",
    "\n"
   ]
  },
  {
   "cell_type": "code",
   "execution_count": 22,
   "metadata": {},
   "outputs": [
    {
     "data": {
      "image/png": "[encoded data removed]",
      "text/plain": [
       "<Figure size 432x288 with 1 Axes>"
      ]
     },
     "metadata": {
      "needs_background": "light"
     },
     "output_type": "display_data"
    }
   ],
   "source": [
    "# Outlier Analysis on PC1\n",
    "plt.boxplot(pcs_df.PC1)\n",
    "Q1 = pcs_df.PC1.quantile(0.05)\n",
    "Q3 = pcs_df.PC1.quantile(0.95)\n",
    "IQR = Q3 - Q1\n",
    "pcs_df = pcs_df[(pcs_df.PC1 >= Q1) & (pcs_df.PC1 <= Q3)]\n",
    "\n"
   ]
  },
  {
   "cell_type": "code",
   "execution_count": 23,
   "metadata": {},
   "outputs": [
    {
     "data": {
      "image/png": "[encoded data removed]",
      "text/plain": [
       "<Figure size 432x288 with 1 Axes>"
      ]
     },
     "metadata": {
      "needs_background": "light"
     },
     "output_type": "display_data"
    }
   ],
   "source": [
    "# Outlier Analysis on PC2\n",
    "plt.boxplot(pcs_df.PC2)\n",
    "Q1 = pcs_df.PC2.quantile(0.05)\n",
    "Q3 = pcs_df.PC2.quantile(0.95)\n",
    "IQR = Q3 - Q1\n",
    "pcs_df = pcs_df[(pcs_df.PC2 >= Q1) & (pcs_df.PC2 <= Q3)]"
   ]
  },
  {
   "cell_type": "code",
   "execution_count": 24,
   "metadata": {},
   "outputs": [
    {
     "data": {
      "image/png": "[encoded data removed]",
      "text/plain": [
       "<Figure size 432x288 with 1 Axes>"
      ]
     },
     "metadata": {
      "needs_background": "light"
     },
     "output_type": "display_data"
    }
   ],
   "source": [
    "# Outlier Analysis on PC3\n",
    "plt.boxplot(pcs_df.PC3)\n",
    "Q1 = pcs_df.PC3.quantile(0.05)\n",
    "Q3 = pcs_df.PC3.quantile(0.95)\n",
    "IQR = Q3 - Q1\n",
    "pcs_df = pcs_df[(pcs_df.PC3 >= Q1 ) & (pcs_df.PC3 <= Q3)]\n"
   ]
  },
  {
   "cell_type": "code",
   "execution_count": 25,
   "metadata": {},
   "outputs": [
    {
     "data": {
      "text/plain": [
       "(119, 4)"
      ]
     },
     "execution_count": 25,
     "metadata": {},
     "output_type": "execute_result"
    }
   ],
   "source": [
    "# after outlier treatment checking the data now \n",
    "pcs_df.shape\n",
    "#pcs_df.head()"
   ]
  },
  {
   "cell_type": "code",
   "execution_count": 26,
   "metadata": {},
   "outputs": [
    {
     "data": {
      "text/plain": [
       "<matplotlib.axes._subplots.AxesSubplot at 0x2978c6d9160>"
      ]
     },
     "execution_count": 26,
     "metadata": {},
     "output_type": "execute_result"
    },
    {
     "data": {
      "image/png": "[encoded data removed]",
      "text/plain": [
       "<Figure size 432x288 with 1 Axes>"
      ]
     },
     "metadata": {
      "needs_background": "light"
     },
     "output_type": "display_data"
    }
   ],
   "source": [
    "#using scattter plot checking the spread of the data \n",
    "sns.scatterplot(x='PC1',y='PC2',data=pcs_df)"
   ]
  },
  {
   "cell_type": "code",
   "execution_count": 27,
   "metadata": {},
   "outputs": [],
   "source": [
    "# checking weather the data is suitable for clustering by using Hopkins score \n",
    "from sklearn.neighbors import NearestNeighbors\n",
    "from random import sample\n",
    "from numpy.random import uniform\n",
    "import numpy as np\n",
    "from math import isnan\n",
    " \n",
    "def hopkins(X):\n",
    "    d = X.shape[1]\n",
    "    #d = len(vars) # columns\n",
    "    n = len(X) # rows\n",
    "    m = int(0.1 * n) \n",
    "    nbrs = NearestNeighbors(n_neighbors=1).fit(X.values)\n",
    " \n",
    "    rand_X = sample(range(0, n, 1), m)\n",
    " \n",
    "    ujd = []\n",
    "    wjd = []\n",
    "    for j in range(0, m):\n",
    "        u_dist, _ = nbrs.kneighbors(uniform(np.amin(X,axis=0),np.amax(X,axis=0),d).reshape(1, -1), 2, return_distance=True)\n",
    "        ujd.append(u_dist[0][1])\n",
    "        w_dist, _ = nbrs.kneighbors(X.iloc[rand_X[j]].values.reshape(1, -1), 2, return_distance=True)\n",
    "        wjd.append(w_dist[0][1])\n",
    " \n",
    "    H = sum(ujd) / (sum(ujd) + sum(wjd))\n",
    "    if isnan(H):\n",
    "        print(ujd, wjd)\n",
    "        H = 0\n",
    " \n",
    "    return H"
   ]
  },
  {
   "cell_type": "code",
   "execution_count": 28,
   "metadata": {},
   "outputs": [
    {
     "data": {
      "text/plain": [
       "0.6763614690451173"
      ]
     },
     "execution_count": 28,
     "metadata": {},
     "output_type": "execute_result"
    }
   ],
   "source": [
    "#Let's check the Hopkins measure\n",
    "hopkins(pcs_df.drop(['country'],axis=1))"
   ]
  },
  {
   "cell_type": "code",
   "execution_count": 29,
   "metadata": {},
   "outputs": [
    {
     "data": {
      "text/plain": [
       "array([[-1.86858510e+00,  3.38401319e-01,  1.83749815e+00],\n",
       "       [ 2.81738143e-01, -8.55767995e-01, -5.34295133e-01],\n",
       "       [-1.66487260e-01,  8.31005740e-02, -1.99473935e+00],\n",
       "       [ 6.67046206e-01,  2.29477691e-01, -1.96707025e-01],\n",
       "       [ 3.91445167e-02, -1.65061486e+00, -1.25688394e+00],\n",
       "       [-5.74855795e-02, -6.34148294e-01, -1.43632285e+00],\n",
       "       [ 1.52927505e+00, -1.86388855e+00,  4.77260913e-01],\n",
       "       [ 1.92273411e+00, -5.68424732e-01,  1.64707374e+00],\n",
       "       [-1.01639283e-01,  9.75338529e-02, -1.21255995e+00],\n",
       "       [ 8.23289405e-01, -7.03087468e-01,  6.62344290e-01],\n",
       "       [ 1.08434231e+00,  1.49326764e+00, -8.98444713e-01],\n",
       "       [-7.08939451e-01, -9.24582942e-01, -1.60235603e+00],\n",
       "       [ 6.99583032e-01, -7.06047266e-01,  4.12978720e-01],\n",
       "       [ 3.76260899e-01,  9.65010351e-01, -1.10436908e+00],\n",
       "       [ 1.34506587e-01,  8.84164713e-01, -2.08261897e-01],\n",
       "       [-1.71415636e+00,  8.78412620e-01,  8.55559740e-01],\n",
       "       [-1.03852700e-01,  9.68142088e-01, -1.74885263e-01],\n",
       "       [-5.00757461e-01,  1.99768221e-01, -8.63097503e-01],\n",
       "       [ 6.41670694e-01, -1.80468843e+00,  1.14937884e+00],\n",
       "       [-5.66638328e-01,  7.27758809e-01,  1.28809949e+00],\n",
       "       [ 5.84149280e-01, -6.08297089e-02, -7.11790867e-02],\n",
       "       [-3.78355704e-01,  1.08925053e+00,  3.13979008e-01],\n",
       "       [-1.79912293e+00,  4.52554676e-01,  1.08671167e+00],\n",
       "       [ 1.65374799e+00, -1.77577851e+00,  1.37089974e+00],\n",
       "       [-1.01057240e-01,  3.72195248e-01, -4.95238754e-01],\n",
       "       [ 6.26415984e-01, -1.11235448e+00, -5.78572356e-01],\n",
       "       [ 5.15629618e-02, -1.29823714e+00, -1.60995191e+00],\n",
       "       [-1.34378324e+00,  6.24609736e-01,  5.55845771e-01],\n",
       "       [ 6.13483926e-01, -1.89506497e+00,  5.76944433e-01],\n",
       "       [-1.65961522e+00,  1.97603829e+00,  1.33179421e+00],\n",
       "       [ 7.47027672e-01, -1.07802797e+00, -3.47089622e-02],\n",
       "       [ 1.40529912e+00,  4.04364865e-01, -3.11964935e-01],\n",
       "       [ 1.31987571e+00,  5.61190525e-01,  6.07384235e-01],\n",
       "       [ 1.94985547e+00, -5.25725739e-01,  1.88992622e+00],\n",
       "       [-1.37461495e-01, -9.69446205e-01, -5.01264190e-01],\n",
       "       [ 1.77962507e-02, -1.27962518e+00, -1.48058462e-01],\n",
       "       [-5.30372113e-01, -6.33344769e-01, -1.26361325e+00],\n",
       "       [ 5.71028934e-02, -8.92264459e-01, -1.00821561e-01],\n",
       "       [-1.57561453e+00, -2.00441648e-01, -1.25854252e+00],\n",
       "       [ 1.06449151e+00,  1.42658148e+00, -1.14093479e-01],\n",
       "       [-1.25035194e-01,  1.41947322e+00, -1.35877681e-01],\n",
       "       [ 1.59614414e+00, -8.68659514e-01,  8.48217583e-01],\n",
       "       [-8.96912999e-01,  1.50484243e+00, -1.25772481e+00],\n",
       "       [-1.41825831e+00,  5.27981452e-01,  9.48643602e-01],\n",
       "       [ 2.09594568e-01, -9.49020711e-01,  7.48441208e-01],\n",
       "       [ 1.73097007e+00, -1.35212362e+00,  1.60223481e+00],\n",
       "       [-1.31318578e+00,  1.00480605e+00, -1.29613973e-01],\n",
       "       [ 9.73257256e-02, -6.46072981e-01, -1.75596872e-01],\n",
       "       [-4.18154866e-01, -7.18295024e-01,  6.21295448e-02],\n",
       "       [-1.90244001e+00,  1.59037037e+00,  4.74476705e-01],\n",
       "       [-2.15469412e-01,  1.67698065e+00,  3.31938816e-01],\n",
       "       [ 1.17614002e+00,  1.59326291e+00,  3.98268239e-01],\n",
       "       [ 1.60953360e+00, -2.26882036e-01,  7.32970070e-01],\n",
       "       [-8.52008465e-01, -3.13623625e-01, -1.10303625e+00],\n",
       "       [ 1.99887002e-02, -1.12851258e+00, -1.89648181e+00],\n",
       "       [-6.48533217e-01,  1.30272904e-01,  3.71095641e-01],\n",
       "       [ 9.71083177e-01, -8.89795134e-01,  1.73819158e-01],\n",
       "       [ 1.94328630e-02, -1.19899524e-01, -1.25701318e+00],\n",
       "       [ 1.02763536e-01,  6.52351413e-01,  6.26886355e-01],\n",
       "       [-1.70901300e-01,  5.76575812e-01, -1.90819389e+00],\n",
       "       [-1.19895935e+00, -3.27003984e-02,  2.21252865e-01],\n",
       "       [ 1.61147009e+00,  1.89367098e+00, -2.06770558e+00],\n",
       "       [-2.25202537e-01,  1.59099475e+00,  2.79148666e-01],\n",
       "       [-9.79512261e-01,  1.01178549e+00, -1.70106947e-01],\n",
       "       [ 7.64556771e-01,  1.29343542e-01,  4.04009153e-02],\n",
       "       [ 7.55088608e-01, -5.17947585e-01, -3.29010771e-02],\n",
       "       [ 5.40344291e-01,  1.37974559e+00, -1.85911811e+00],\n",
       "       [ 9.03885896e-01,  9.20742391e-01,  2.14780493e-01],\n",
       "       [ 4.71373176e-01, -3.56050054e-01, -3.10437637e-02],\n",
       "       [-1.36746861e+00,  8.21825919e-01, -2.46991302e-01],\n",
       "       [-1.90919927e+00,  6.96780066e-01,  1.16233822e+00],\n",
       "       [ 7.09914390e-01,  1.27276323e+00, -1.32051270e-01],\n",
       "       [ 5.77196302e-01,  4.67020973e-01, -1.46252016e-01],\n",
       "       [ 3.20648783e-01, -3.68689083e-01,  1.57613018e+00],\n",
       "       [ 6.59371335e-01, -6.90867113e-01,  7.73400851e-01],\n",
       "       [-1.44984606e-01, -3.71312433e-01, -4.46906518e-01],\n",
       "       [-1.87625383e+00,  1.53119378e+00,  1.23299438e+00],\n",
       "       [-6.75194654e-01,  1.32506378e+00,  1.33975642e+00],\n",
       "       [-8.28377961e-01, -7.21511050e-01, -1.08725451e+00],\n",
       "       [ 1.18513910e+00, -1.66916464e+00,  7.53801055e-01],\n",
       "       [-1.50175194e+00,  1.10312533e-01, -1.38351136e+00],\n",
       "       [ 7.42123016e-01,  1.27967693e+00,  9.12121229e-01],\n",
       "       [ 7.87426711e-02,  5.59922632e-01, -4.33665372e-01],\n",
       "       [ 1.86441751e-03, -1.11964282e+00, -1.37627839e+00],\n",
       "       [-4.95589593e-01,  1.31404732e-01, -1.04512554e+00],\n",
       "       [ 7.90461487e-01, -8.11216578e-01, -1.62618437e-01],\n",
       "       [ 1.17687007e+00, -1.94081867e+00,  1.08702240e+00],\n",
       "       [ 3.77198801e-01, -6.72472192e-01, -8.85817543e-01],\n",
       "       [ 1.24543639e-01, -7.09684024e-01, -1.80960756e+00],\n",
       "       [-1.07355356e+00, -1.49849372e+00,  2.15920622e+00],\n",
       "       [-3.59151917e-01, -1.04460503e-01,  4.73303299e-01],\n",
       "       [ 5.72395143e-01,  1.01290353e+00, -1.77653938e+00],\n",
       "       [-1.22521356e+00,  2.54011422e-01,  8.31366625e-01],\n",
       "       [ 5.39600911e-01, -1.41932347e+00,  6.95868553e-01],\n",
       "       [ 1.29844144e+00,  1.21624353e+00,  1.12225082e+00],\n",
       "       [ 1.46601301e+00,  2.12924903e-01,  1.12221963e+00],\n",
       "       [-5.27851674e-01,  1.40471822e+00,  1.81911894e+00],\n",
       "       [-7.59713158e-01, -5.98818034e-01,  1.32461878e+00],\n",
       "       [ 1.24260915e+00, -2.47050640e-01, -4.17804479e-01],\n",
       "       [ 1.99769582e-02,  2.19708949e-02, -7.81918784e-01],\n",
       "       [-1.47184607e+00, -2.57020637e-01, -4.12137191e-01],\n",
       "       [ 1.17971233e-01,  1.25844006e-01, -1.31071936e-01],\n",
       "       [ 1.82711792e+00, -5.85335419e-01,  1.17615889e+00],\n",
       "       [-7.95818748e-01,  7.65010355e-02, -8.08030691e-02],\n",
       "       [-1.63204995e+00,  1.19608001e-01,  6.30979520e-01],\n",
       "       [ 5.95642085e-01,  1.21794294e+00, -1.28102431e+00],\n",
       "       [-1.50318368e+00, -8.51687140e-01,  3.70357234e-01],\n",
       "       [-4.82962483e-01, -1.70935214e-01, -7.31073082e-02],\n",
       "       [ 3.89200767e-01,  1.90971849e-01, -4.00507342e-01],\n",
       "       [ 2.74695674e-01, -1.52286447e+00, -8.44794479e-01],\n",
       "       [-1.82616546e+00, -1.75092206e-01,  1.96305425e+00],\n",
       "       [ 1.98893280e-01, -9.25307827e-02, -4.81237519e-01],\n",
       "       [ 1.34664375e+00, -1.57296127e+00,  8.08476311e-01],\n",
       "       [ 4.11240379e-01, -1.71976483e+00, -1.51811442e-01],\n",
       "       [-5.35051440e-01, -4.36989494e-01, -1.27044994e+00],\n",
       "       [-5.28578525e-01,  8.38061903e-01,  2.14145890e-01],\n",
       "       [ 3.14187703e-01,  1.72678155e+00, -1.16905309e-01],\n",
       "       [-1.19724128e+00,  6.51121225e-01, -1.05528029e+00],\n",
       "       [-1.83309871e+00,  1.24008774e+00,  7.39745164e-01]])"
      ]
     },
     "execution_count": 29,
     "metadata": {},
     "output_type": "execute_result"
    }
   ],
   "source": [
    "# Preliminary check is done, standardizing again \n",
    "from sklearn.preprocessing import StandardScaler\n",
    "new_df = pcs_df\n",
    "new_df1 = StandardScaler().fit_transform(new_df.drop(['country'],axis=1))\n",
    "new_df1"
   ]
  },
  {
   "cell_type": "markdown",
   "metadata": {},
   "source": [
    "# K-Means clustering\n",
    "## Silhouette Analysis , elbow-curve SSD\n",
    "\n"
   ]
  },
  {
   "cell_type": "code",
   "execution_count": 30,
   "metadata": {},
   "outputs": [
    {
     "name": "stdout",
     "output_type": "stream",
     "text": [
      "For n_clusters=2, the silhouette score is 0.2705315160199778\n",
      "For n_clusters=3, the silhouette score is 0.2999240778235065\n",
      "For n_clusters=4, the silhouette score is 0.3309217635061211\n",
      "For n_clusters=5, the silhouette score is 0.2904403077633728\n",
      "For n_clusters=6, the silhouette score is 0.29749021955596966\n",
      "For n_clusters=7, the silhouette score is 0.264212449647241\n",
      "For n_clusters=8, the silhouette score is 0.2817022081525263\n"
     ]
    }
   ],
   "source": [
    "# 4) Modeling\n",
    "#Let's check the silhouette score first to identify the ideal number of clusters\n",
    "from sklearn.metrics import silhouette_score\n",
    "range_n_clusters = [2, 3, 4, 5, 6, 7, 8]\n",
    "\n",
    "for num_clusters in range_n_clusters:\n",
    "    \n",
    "    # intialise kmeans\n",
    "    kmeans = KMeans(n_clusters=num_clusters, max_iter=50)\n",
    "    kmeans.fit(new_df1)\n",
    "    \n",
    "    cluster_labels = kmeans.labels_\n",
    "    \n",
    "    # silhouette score\n",
    "    silhouette_avg = silhouette_score(new_df1, cluster_labels)\n",
    "    print(\"For n_clusters={0}, the silhouette score is {1}\".format(num_clusters, silhouette_avg))"
   ]
  },
  {
   "cell_type": "code",
   "execution_count": 31,
   "metadata": {},
   "outputs": [
    {
     "data": {
      "text/plain": [
       "[<matplotlib.lines.Line2D at 0x2978c8c9c88>]"
      ]
     },
     "execution_count": 31,
     "metadata": {},
     "output_type": "execute_result"
    },
    {
     "data": {
      "image/png": "[encoded data removed]",
      "text/plain": [
       "<Figure size 432x288 with 1 Axes>"
      ]
     },
     "metadata": {
      "needs_background": "light"
     },
     "output_type": "display_data"
    }
   ],
   "source": [
    "# elbow-curve/SSD\n",
    "ssd = []\n",
    "range_n_clusters = [2, 3, 4, 5, 6, 7, 8]\n",
    "for num_clusters in range_n_clusters:\n",
    "    kmeans = KMeans(n_clusters=num_clusters, max_iter=50)\n",
    "    kmeans.fit(new_df1)\n",
    "    \n",
    "    ssd.append(kmeans.inertia_)\n",
    "    \n",
    "# plot the SSDs for each n_clusters\n",
    "# ssd\n",
    "plt.plot(ssd)"
   ]
  },
  {
   "cell_type": "code",
   "execution_count": 32,
   "metadata": {},
   "outputs": [
    {
     "data": {
      "text/plain": [
       "KMeans(algorithm='auto', copy_x=True, init='k-means++', max_iter=50,\n",
       "    n_clusters=5, n_init=10, n_jobs=None, precompute_distances='auto',\n",
       "    random_state=None, tol=0.0001, verbose=0)"
      ]
     },
     "execution_count": 32,
     "metadata": {},
     "output_type": "execute_result"
    }
   ],
   "source": [
    "#Finally choosing k =5 . let's create the clusters with K =5\n",
    "kmeans = KMeans(n_clusters=5, max_iter=50)\n",
    "kmeans.fit(new_df1)\n"
   ]
  },
  {
   "cell_type": "code",
   "execution_count": 33,
   "metadata": {},
   "outputs": [
    {
     "data": {
      "text/plain": [
       "array([3, 2, 4, 1, 4, 4, 0, 0, 4, 0, 1, 4, 2, 1, 1, 3, 1, 4, 0, 3, 2, 1,\n",
       "       3, 0, 1, 2, 4, 3, 0, 3, 2, 1, 1, 0, 2, 2, 4, 2, 4, 1, 1, 0, 1, 3,\n",
       "       2, 0, 3, 2, 2, 3, 1, 1, 0, 4, 4, 3, 2, 4, 1, 4, 3, 1, 1, 3, 2, 2,\n",
       "       1, 1, 2, 3, 3, 1, 1, 0, 0, 2, 3, 3, 4, 0, 4, 1, 1, 4, 4, 2, 0, 2,\n",
       "       4, 3, 2, 1, 3, 0, 1, 0, 3, 3, 2, 4, 4, 2, 0, 3, 3, 1, 3, 2, 2, 2,\n",
       "       3, 2, 0, 2, 4, 3, 1, 4, 3])"
      ]
     },
     "execution_count": 33,
     "metadata": {},
     "output_type": "execute_result"
    }
   ],
   "source": [
    "kmeans.labels_\n"
   ]
  },
  {
   "cell_type": "code",
   "execution_count": 34,
   "metadata": {},
   "outputs": [
    {
     "data": {
      "text/html": [
       "<div>\n",
       "<style scoped>\n",
       "    .dataframe tbody tr th:only-of-type {\n",
       "        vertical-align: middle;\n",
       "    }\n",
       "\n",
       "    .dataframe tbody tr th {\n",
       "        vertical-align: top;\n",
       "    }\n",
       "\n",
       "    .dataframe thead th {\n",
       "        text-align: right;\n",
       "    }\n",
       "</style>\n",
       "<table border=\"1\" class=\"dataframe\">\n",
       "  <thead>\n",
       "    <tr style=\"text-align: right;\">\n",
       "      <th></th>\n",
       "      <th>country</th>\n",
       "      <th>PC1</th>\n",
       "      <th>PC2</th>\n",
       "      <th>PC3</th>\n",
       "      <th>cluster_id</th>\n",
       "    </tr>\n",
       "  </thead>\n",
       "  <tbody>\n",
       "    <tr>\n",
       "      <th>0</th>\n",
       "      <td>Afghanistan</td>\n",
       "      <td>-2.917491</td>\n",
       "      <td>0.006782</td>\n",
       "      <td>1.149719</td>\n",
       "      <td>3</td>\n",
       "    </tr>\n",
       "    <tr>\n",
       "      <th>1</th>\n",
       "      <td>Albania</td>\n",
       "      <td>0.427164</td>\n",
       "      <td>-0.849421</td>\n",
       "      <td>-0.524328</td>\n",
       "      <td>2</td>\n",
       "    </tr>\n",
       "    <tr>\n",
       "      <th>2</th>\n",
       "      <td>Algeria</td>\n",
       "      <td>-0.270015</td>\n",
       "      <td>-0.176265</td>\n",
       "      <td>-1.555131</td>\n",
       "      <td>4</td>\n",
       "    </tr>\n",
       "    <tr>\n",
       "      <th>4</th>\n",
       "      <td>Antigua and Barbuda</td>\n",
       "      <td>1.026479</td>\n",
       "      <td>-0.071315</td>\n",
       "      <td>-0.286053</td>\n",
       "      <td>1</td>\n",
       "    </tr>\n",
       "    <tr>\n",
       "      <th>5</th>\n",
       "      <td>Argentina</td>\n",
       "      <td>0.049829</td>\n",
       "      <td>-1.419314</td>\n",
       "      <td>-1.034342</td>\n",
       "      <td>4</td>\n",
       "    </tr>\n",
       "  </tbody>\n",
       "</table>\n",
       "</div>"
      ],
      "text/plain": [
       "               country       PC1       PC2       PC3  cluster_id\n",
       "0          Afghanistan -2.917491  0.006782  1.149719           3\n",
       "1              Albania  0.427164 -0.849421 -0.524328           2\n",
       "2              Algeria -0.270015 -0.176265 -1.555131           4\n",
       "4  Antigua and Barbuda  1.026479 -0.071315 -0.286053           1\n",
       "5            Argentina  0.049829 -1.419314 -1.034342           4"
      ]
     },
     "execution_count": 34,
     "metadata": {},
     "output_type": "execute_result"
    }
   ],
   "source": [
    "# assign the label\n",
    "new_df['cluster_id'] = kmeans.labels_\n",
    "new_df.head()"
   ]
  },
  {
   "cell_type": "code",
   "execution_count": 35,
   "metadata": {},
   "outputs": [
    {
     "data": {
      "text/plain": [
       "1    27\n",
       "3    26\n",
       "2    26\n",
       "4    22\n",
       "0    18\n",
       "Name: cluster_id, dtype: int64"
      ]
     },
     "execution_count": 35,
     "metadata": {},
     "output_type": "execute_result"
    }
   ],
   "source": [
    "#counting the cluster_id \n",
    "new_df['cluster_id'].value_counts()\n"
   ]
  },
  {
   "cell_type": "code",
   "execution_count": 36,
   "metadata": {},
   "outputs": [],
   "source": [
    "#Now let's create the cluster means wrt to the various variables mentioned in the question \n",
    "combine=pd.merge(country_df,new_df,on='country')\n",
    "df_all=combine[['country','child_mort','exports','imports','health','income','inflation','life_expec','total_fer','gdpp','cluster_id']]\n",
    "child_mort = pd.DataFrame(df_all.groupby([\"cluster_id\"]).child_mort.mean())\n",
    "exports= pd.DataFrame(df_all.groupby([\"cluster_id\"]).exports.mean())\n",
    "imports = pd.DataFrame(df_all.groupby([\"cluster_id\"]).imports.mean())\n",
    "health = pd.DataFrame(df_all.groupby([\"cluster_id\"]).health.mean())\n",
    "income = pd.DataFrame(df_all.groupby([\"cluster_id\"]).income.mean())\n",
    "inflation = pd.DataFrame(df_all.groupby([\"cluster_id\"]).inflation.mean())         \n",
    "life_expec = pd.DataFrame(df_all.groupby([\"cluster_id\"]).life_expec.mean())\n",
    "total_fer = pd.DataFrame(df_all.groupby([\"cluster_id\"]).total_fer.mean())\n",
    "gdpp = pd.DataFrame(df_all.groupby([\"cluster_id\"]).gdpp.mean())\n",
    "\n"
   ]
  },
  {
   "cell_type": "code",
   "execution_count": 37,
   "metadata": {},
   "outputs": [
    {
     "data": {
      "text/html": [
       "<div>\n",
       "<style scoped>\n",
       "    .dataframe tbody tr th:only-of-type {\n",
       "        vertical-align: middle;\n",
       "    }\n",
       "\n",
       "    .dataframe tbody tr th {\n",
       "        vertical-align: top;\n",
       "    }\n",
       "\n",
       "    .dataframe thead th {\n",
       "        text-align: right;\n",
       "    }\n",
       "</style>\n",
       "<table border=\"1\" class=\"dataframe\">\n",
       "  <thead>\n",
       "    <tr style=\"text-align: right;\">\n",
       "      <th></th>\n",
       "      <th>cluster_id</th>\n",
       "      <th>Child_Mortality</th>\n",
       "      <th>Exports</th>\n",
       "      <th>Imports</th>\n",
       "      <th>Health_Spending</th>\n",
       "      <th>Income</th>\n",
       "      <th>Inflation</th>\n",
       "      <th>Life_Expectancy</th>\n",
       "      <th>Total_Fertility</th>\n",
       "      <th>gdpp</th>\n",
       "    </tr>\n",
       "  </thead>\n",
       "  <tbody>\n",
       "    <tr>\n",
       "      <th>0</th>\n",
       "      <td>0</td>\n",
       "      <td>6.255556</td>\n",
       "      <td>38.388889</td>\n",
       "      <td>43.333333</td>\n",
       "      <td>10.181111</td>\n",
       "      <td>29546.111111</td>\n",
       "      <td>2.600333</td>\n",
       "      <td>78.844444</td>\n",
       "      <td>1.716111</td>\n",
       "      <td>31068.333333</td>\n",
       "    </tr>\n",
       "    <tr>\n",
       "      <th>1</th>\n",
       "      <td>1</td>\n",
       "      <td>19.140741</td>\n",
       "      <td>59.618519</td>\n",
       "      <td>61.140741</td>\n",
       "      <td>5.762963</td>\n",
       "      <td>18914.074074</td>\n",
       "      <td>5.878519</td>\n",
       "      <td>73.414815</td>\n",
       "      <td>2.282963</td>\n",
       "      <td>10338.740741</td>\n",
       "    </tr>\n",
       "    <tr>\n",
       "      <th>2</th>\n",
       "      <td>2</td>\n",
       "      <td>15.707692</td>\n",
       "      <td>35.080769</td>\n",
       "      <td>44.453846</td>\n",
       "      <td>7.010769</td>\n",
       "      <td>13936.923077</td>\n",
       "      <td>3.835923</td>\n",
       "      <td>74.946154</td>\n",
       "      <td>2.167692</td>\n",
       "      <td>8679.230769</td>\n",
       "    </tr>\n",
       "    <tr>\n",
       "      <th>3</th>\n",
       "      <td>3</td>\n",
       "      <td>73.269231</td>\n",
       "      <td>27.853846</td>\n",
       "      <td>42.138462</td>\n",
       "      <td>6.371154</td>\n",
       "      <td>3518.769231</td>\n",
       "      <td>8.480192</td>\n",
       "      <td>60.673077</td>\n",
       "      <td>4.703077</td>\n",
       "      <td>1798.692308</td>\n",
       "    </tr>\n",
       "    <tr>\n",
       "      <th>4</th>\n",
       "      <td>4</td>\n",
       "      <td>36.550000</td>\n",
       "      <td>26.712273</td>\n",
       "      <td>29.204545</td>\n",
       "      <td>4.775000</td>\n",
       "      <td>9082.272727</td>\n",
       "      <td>12.345000</td>\n",
       "      <td>70.509091</td>\n",
       "      <td>2.755000</td>\n",
       "      <td>3896.000000</td>\n",
       "    </tr>\n",
       "  </tbody>\n",
       "</table>\n",
       "</div>"
      ],
      "text/plain": [
       "   cluster_id  Child_Mortality    Exports    Imports  Health_Spending  \\\n",
       "0           0         6.255556  38.388889  43.333333        10.181111   \n",
       "1           1        19.140741  59.618519  61.140741         5.762963   \n",
       "2           2        15.707692  35.080769  44.453846         7.010769   \n",
       "3           3        73.269231  27.853846  42.138462         6.371154   \n",
       "4           4        36.550000  26.712273  29.204545         4.775000   \n",
       "\n",
       "         Income  Inflation  Life_Expectancy  Total_Fertility          gdpp  \n",
       "0  29546.111111   2.600333        78.844444         1.716111  31068.333333  \n",
       "1  18914.074074   5.878519        73.414815         2.282963  10338.740741  \n",
       "2  13936.923077   3.835923        74.946154         2.167692   8679.230769  \n",
       "3   3518.769231   8.480192        60.673077         4.703077   1798.692308  \n",
       "4   9082.272727  12.345000        70.509091         2.755000   3896.000000  "
      ]
     },
     "execution_count": 37,
     "metadata": {},
     "output_type": "execute_result"
    }
   ],
   "source": [
    "# combing cluster_id with the main dataset\n",
    "df_final = pd.concat([pd.Series([0,1,2,3,4]),child_mort,exports,imports,health,income,inflation,life_expec,total_fer,gdpp], axis=1)\n",
    "df_final.columns = [\"cluster_id\", \"Child_Mortality\", \"Exports\", \"Imports\",\"Health_Spending\",\"Income\",\"Inflation\",\"Life_Expectancy\",\"Total_Fertility\",\"gdpp\"]\n",
    "df_final"
   ]
  },
  {
   "cell_type": "code",
   "execution_count": 38,
   "metadata": {},
   "outputs": [],
   "source": [
    "# From the given data we can say that for the development of the country good references from the given data set are \n",
    "# child_Mortality, Gdpp, Income, Inflation. Let's visualize the data by using these four components"
   ]
  },
  {
   "cell_type": "code",
   "execution_count": 39,
   "metadata": {},
   "outputs": [
    {
     "data": {
      "text/plain": [
       "<matplotlib.axes._subplots.AxesSubplot at 0x2978c6ae898>"
      ]
     },
     "execution_count": 39,
     "metadata": {},
     "output_type": "execute_result"
    },
    {
     "data": {
      "image/png": "[encoded data removed]",
      "text/plain": [
       "<Figure size 432x288 with 1 Axes>"
      ]
     },
     "metadata": {
      "needs_background": "light"
     },
     "output_type": "display_data"
    }
   ],
   "source": [
    " # visualisation using  two of the original variables (like gdpp, child_mort, etc.) \n",
    "sns.scatterplot(x='child_mort',y='gdpp',hue='cluster_id',data=df_all)"
   ]
  },
  {
   "cell_type": "markdown",
   "metadata": {},
   "source": [
    "# child Mortality rate is very high in the countries which has low gdpp\n",
    "\n"
   ]
  },
  {
   "cell_type": "code",
   "execution_count": 40,
   "metadata": {},
   "outputs": [
    {
     "data": {
      "text/plain": [
       "<matplotlib.axes._subplots.AxesSubplot at 0x2978c5b3e80>"
      ]
     },
     "execution_count": 40,
     "metadata": {},
     "output_type": "execute_result"
    },
    {
     "data": {
      "image/png": "[encoded data removed]",
      "text/plain": [
       "<Figure size 432x288 with 1 Axes>"
      ]
     },
     "metadata": {
      "needs_background": "light"
     },
     "output_type": "display_data"
    }
   ],
   "source": [
    "#visualisation using  two of the original variables -Child_Mortality and Income\n",
    "sns.scatterplot(x='child_mort',y='income',hue='cluster_id',data=df_all)"
   ]
  },
  {
   "cell_type": "markdown",
   "metadata": {},
   "source": [
    "child Mortality rate is very high in the countries which has low income"
   ]
  },
  {
   "cell_type": "code",
   "execution_count": 41,
   "metadata": {},
   "outputs": [
    {
     "data": {
      "text/plain": [
       "<matplotlib.axes._subplots.AxesSubplot at 0x2978c914128>"
      ]
     },
     "execution_count": 41,
     "metadata": {},
     "output_type": "execute_result"
    },
    {
     "data": {
      "image/png": "[encoded data removed]",
      "text/plain": [
       "<Figure size 432x288 with 1 Axes>"
      ]
     },
     "metadata": {
      "needs_background": "light"
     },
     "output_type": "display_data"
    }
   ],
   "source": [
    "#visualisation using  two of the original variables -gdpp and Income\n",
    "sns.scatterplot(x='income',y='gdpp',hue='cluster_id',data=df_all)"
   ]
  },
  {
   "cell_type": "code",
   "execution_count": 42,
   "metadata": {},
   "outputs": [
    {
     "data": {
      "text/plain": [
       "<matplotlib.axes._subplots.AxesSubplot at 0x2978c974eb8>"
      ]
     },
     "execution_count": 42,
     "metadata": {},
     "output_type": "execute_result"
    },
    {
     "data": {
      "image/png": "[encoded data removed]",
      "text/plain": [
       "<Figure size 432x288 with 1 Axes>"
      ]
     },
     "metadata": {
      "needs_background": "light"
     },
     "output_type": "display_data"
    }
   ],
   "source": [
    "# box plot - -cluster_id and Income\n",
    "sns.boxplot(x='cluster_id', y='income', data=df_all)"
   ]
  },
  {
   "cell_type": "code",
   "execution_count": 43,
   "metadata": {},
   "outputs": [
    {
     "data": {
      "text/plain": [
       "<matplotlib.axes._subplots.AxesSubplot at 0x2978ca29278>"
      ]
     },
     "execution_count": 43,
     "metadata": {},
     "output_type": "execute_result"
    },
    {
     "data": {
      "image/png": "[encoded data removed]",
      "text/plain": [
       "<Figure size 432x288 with 1 Axes>"
      ]
     },
     "metadata": {
      "needs_background": "light"
     },
     "output_type": "display_data"
    }
   ],
   "source": [
    "# box plot - -cluster_id and gdpp\n",
    "sns.boxplot(x='cluster_id', y='gdpp', data=df_all)"
   ]
  },
  {
   "cell_type": "code",
   "execution_count": 44,
   "metadata": {},
   "outputs": [
    {
     "data": {
      "text/plain": [
       "<matplotlib.axes._subplots.AxesSubplot at 0x2978cac3358>"
      ]
     },
     "execution_count": 44,
     "metadata": {},
     "output_type": "execute_result"
    },
    {
     "data": {
      "image/png": "[encoded data removed]",
      "text/plain": [
       "<Figure size 432x288 with 1 Axes>"
      ]
     },
     "metadata": {
      "needs_background": "light"
     },
     "output_type": "display_data"
    }
   ],
   "source": [
    "# box plot - -cluster_id and child mortality\n",
    "sns.boxplot(x='cluster_id', y='child_mort', data=df_all)"
   ]
  },
  {
   "cell_type": "markdown",
   "metadata": {},
   "source": [
    "# By considering child mortality, gdpp and income we can clearly say that cluster id 1 are the countries that we need to focus much on.Below is the list of countries "
   ]
  },
  {
   "cell_type": "code",
   "execution_count": 45,
   "metadata": {},
   "outputs": [
    {
     "data": {
      "text/html": [
       "<div>\n",
       "<style scoped>\n",
       "    .dataframe tbody tr th:only-of-type {\n",
       "        vertical-align: middle;\n",
       "    }\n",
       "\n",
       "    .dataframe tbody tr th {\n",
       "        vertical-align: top;\n",
       "    }\n",
       "\n",
       "    .dataframe thead th {\n",
       "        text-align: right;\n",
       "    }\n",
       "</style>\n",
       "<table border=\"1\" class=\"dataframe\">\n",
       "  <thead>\n",
       "    <tr style=\"text-align: right;\">\n",
       "      <th></th>\n",
       "      <th>country</th>\n",
       "      <th>child_mort</th>\n",
       "      <th>exports</th>\n",
       "      <th>imports</th>\n",
       "      <th>health</th>\n",
       "      <th>income</th>\n",
       "      <th>inflation</th>\n",
       "      <th>life_expec</th>\n",
       "      <th>total_fer</th>\n",
       "      <th>gdpp</th>\n",
       "      <th>cluster_id</th>\n",
       "    </tr>\n",
       "  </thead>\n",
       "  <tbody>\n",
       "    <tr>\n",
       "      <th>21</th>\n",
       "      <td>Cambodia</td>\n",
       "      <td>44.4</td>\n",
       "      <td>54.1</td>\n",
       "      <td>59.5</td>\n",
       "      <td>5.68</td>\n",
       "      <td>2520</td>\n",
       "      <td>3.120</td>\n",
       "      <td>66.1</td>\n",
       "      <td>2.88</td>\n",
       "      <td>786</td>\n",
       "      <td>1</td>\n",
       "    </tr>\n",
       "    <tr>\n",
       "      <th>62</th>\n",
       "      <td>Kyrgyz Republic</td>\n",
       "      <td>29.6</td>\n",
       "      <td>51.6</td>\n",
       "      <td>81.7</td>\n",
       "      <td>6.18</td>\n",
       "      <td>2790</td>\n",
       "      <td>10.000</td>\n",
       "      <td>68.5</td>\n",
       "      <td>3.10</td>\n",
       "      <td>880</td>\n",
       "      <td>1</td>\n",
       "    </tr>\n",
       "    <tr>\n",
       "      <th>116</th>\n",
       "      <td>Vietnam</td>\n",
       "      <td>23.3</td>\n",
       "      <td>72.0</td>\n",
       "      <td>80.2</td>\n",
       "      <td>6.84</td>\n",
       "      <td>4490</td>\n",
       "      <td>12.100</td>\n",
       "      <td>73.1</td>\n",
       "      <td>1.95</td>\n",
       "      <td>1310</td>\n",
       "      <td>1</td>\n",
       "    </tr>\n",
       "    <tr>\n",
       "      <th>24</th>\n",
       "      <td>Cape Verde</td>\n",
       "      <td>26.5</td>\n",
       "      <td>32.7</td>\n",
       "      <td>61.8</td>\n",
       "      <td>4.09</td>\n",
       "      <td>5830</td>\n",
       "      <td>0.505</td>\n",
       "      <td>72.5</td>\n",
       "      <td>2.67</td>\n",
       "      <td>3310</td>\n",
       "      <td>1</td>\n",
       "    </tr>\n",
       "    <tr>\n",
       "      <th>50</th>\n",
       "      <td>Guyana</td>\n",
       "      <td>37.6</td>\n",
       "      <td>51.4</td>\n",
       "      <td>79.1</td>\n",
       "      <td>5.38</td>\n",
       "      <td>5840</td>\n",
       "      <td>5.730</td>\n",
       "      <td>65.5</td>\n",
       "      <td>2.65</td>\n",
       "      <td>3040</td>\n",
       "      <td>1</td>\n",
       "    </tr>\n",
       "    <tr>\n",
       "      <th>16</th>\n",
       "      <td>Bhutan</td>\n",
       "      <td>42.7</td>\n",
       "      <td>42.5</td>\n",
       "      <td>70.7</td>\n",
       "      <td>5.20</td>\n",
       "      <td>6420</td>\n",
       "      <td>5.990</td>\n",
       "      <td>72.1</td>\n",
       "      <td>2.38</td>\n",
       "      <td>2180</td>\n",
       "      <td>1</td>\n",
       "    </tr>\n",
       "    <tr>\n",
       "      <th>82</th>\n",
       "      <td>Paraguay</td>\n",
       "      <td>24.1</td>\n",
       "      <td>55.1</td>\n",
       "      <td>51.5</td>\n",
       "      <td>5.87</td>\n",
       "      <td>7290</td>\n",
       "      <td>6.100</td>\n",
       "      <td>74.1</td>\n",
       "      <td>2.73</td>\n",
       "      <td>3230</td>\n",
       "      <td>1</td>\n",
       "    </tr>\n",
       "    <tr>\n",
       "      <th>40</th>\n",
       "      <td>Fiji</td>\n",
       "      <td>24.1</td>\n",
       "      <td>57.8</td>\n",
       "      <td>63.9</td>\n",
       "      <td>4.86</td>\n",
       "      <td>7350</td>\n",
       "      <td>4.230</td>\n",
       "      <td>65.3</td>\n",
       "      <td>2.67</td>\n",
       "      <td>3650</td>\n",
       "      <td>1</td>\n",
       "    </tr>\n",
       "    <tr>\n",
       "      <th>14</th>\n",
       "      <td>Belize</td>\n",
       "      <td>18.8</td>\n",
       "      <td>58.2</td>\n",
       "      <td>57.5</td>\n",
       "      <td>5.20</td>\n",
       "      <td>7880</td>\n",
       "      <td>1.140</td>\n",
       "      <td>71.4</td>\n",
       "      <td>2.71</td>\n",
       "      <td>4340</td>\n",
       "      <td>1</td>\n",
       "    </tr>\n",
       "    <tr>\n",
       "      <th>58</th>\n",
       "      <td>Jordan</td>\n",
       "      <td>21.1</td>\n",
       "      <td>48.3</td>\n",
       "      <td>69.0</td>\n",
       "      <td>8.04</td>\n",
       "      <td>9470</td>\n",
       "      <td>8.430</td>\n",
       "      <td>75.8</td>\n",
       "      <td>3.66</td>\n",
       "      <td>3680</td>\n",
       "      <td>1</td>\n",
       "    </tr>\n",
       "    <tr>\n",
       "      <th>71</th>\n",
       "      <td>Maldives</td>\n",
       "      <td>13.2</td>\n",
       "      <td>77.6</td>\n",
       "      <td>65.4</td>\n",
       "      <td>6.33</td>\n",
       "      <td>10500</td>\n",
       "      <td>2.880</td>\n",
       "      <td>77.9</td>\n",
       "      <td>2.23</td>\n",
       "      <td>7100</td>\n",
       "      <td>1</td>\n",
       "    </tr>\n",
       "    <tr>\n",
       "      <th>105</th>\n",
       "      <td>Thailand</td>\n",
       "      <td>14.9</td>\n",
       "      <td>66.5</td>\n",
       "      <td>60.8</td>\n",
       "      <td>3.88</td>\n",
       "      <td>13500</td>\n",
       "      <td>4.080</td>\n",
       "      <td>76.6</td>\n",
       "      <td>1.55</td>\n",
       "      <td>5080</td>\n",
       "      <td>1</td>\n",
       "    </tr>\n",
       "    <tr>\n",
       "      <th>81</th>\n",
       "      <td>Panama</td>\n",
       "      <td>19.7</td>\n",
       "      <td>70.0</td>\n",
       "      <td>78.2</td>\n",
       "      <td>8.10</td>\n",
       "      <td>15400</td>\n",
       "      <td>2.590</td>\n",
       "      <td>77.8</td>\n",
       "      <td>2.62</td>\n",
       "      <td>8080</td>\n",
       "      <td>1</td>\n",
       "    </tr>\n",
       "    <tr>\n",
       "      <th>42</th>\n",
       "      <td>Gabon</td>\n",
       "      <td>63.7</td>\n",
       "      <td>57.7</td>\n",
       "      <td>18.9</td>\n",
       "      <td>3.50</td>\n",
       "      <td>15400</td>\n",
       "      <td>16.600</td>\n",
       "      <td>62.9</td>\n",
       "      <td>4.08</td>\n",
       "      <td>8750</td>\n",
       "      <td>1</td>\n",
       "    </tr>\n",
       "    <tr>\n",
       "      <th>72</th>\n",
       "      <td>Mauritius</td>\n",
       "      <td>15.0</td>\n",
       "      <td>51.2</td>\n",
       "      <td>62.2</td>\n",
       "      <td>6.00</td>\n",
       "      <td>15900</td>\n",
       "      <td>1.130</td>\n",
       "      <td>73.4</td>\n",
       "      <td>1.57</td>\n",
       "      <td>8000</td>\n",
       "      <td>1</td>\n",
       "    </tr>\n",
       "    <tr>\n",
       "      <th>13</th>\n",
       "      <td>Belarus</td>\n",
       "      <td>5.5</td>\n",
       "      <td>51.4</td>\n",
       "      <td>64.5</td>\n",
       "      <td>5.61</td>\n",
       "      <td>16200</td>\n",
       "      <td>15.100</td>\n",
       "      <td>70.4</td>\n",
       "      <td>1.49</td>\n",
       "      <td>6030</td>\n",
       "      <td>1</td>\n",
       "    </tr>\n",
       "    <tr>\n",
       "      <th>3</th>\n",
       "      <td>Antigua and Barbuda</td>\n",
       "      <td>10.3</td>\n",
       "      <td>45.5</td>\n",
       "      <td>58.9</td>\n",
       "      <td>6.03</td>\n",
       "      <td>19100</td>\n",
       "      <td>1.440</td>\n",
       "      <td>76.8</td>\n",
       "      <td>2.13</td>\n",
       "      <td>12200</td>\n",
       "      <td>1</td>\n",
       "    </tr>\n",
       "    <tr>\n",
       "      <th>67</th>\n",
       "      <td>Lithuania</td>\n",
       "      <td>6.1</td>\n",
       "      <td>65.3</td>\n",
       "      <td>67.2</td>\n",
       "      <td>7.04</td>\n",
       "      <td>21100</td>\n",
       "      <td>2.380</td>\n",
       "      <td>73.2</td>\n",
       "      <td>1.50</td>\n",
       "      <td>12000</td>\n",
       "      <td>1</td>\n",
       "    </tr>\n",
       "    <tr>\n",
       "      <th>51</th>\n",
       "      <td>Hungary</td>\n",
       "      <td>6.0</td>\n",
       "      <td>81.8</td>\n",
       "      <td>76.5</td>\n",
       "      <td>7.33</td>\n",
       "      <td>22300</td>\n",
       "      <td>2.330</td>\n",
       "      <td>74.5</td>\n",
       "      <td>1.25</td>\n",
       "      <td>13100</td>\n",
       "      <td>1</td>\n",
       "    </tr>\n",
       "    <tr>\n",
       "      <th>39</th>\n",
       "      <td>Estonia</td>\n",
       "      <td>4.5</td>\n",
       "      <td>75.1</td>\n",
       "      <td>68.7</td>\n",
       "      <td>6.03</td>\n",
       "      <td>22700</td>\n",
       "      <td>1.740</td>\n",
       "      <td>76.0</td>\n",
       "      <td>1.72</td>\n",
       "      <td>14600</td>\n",
       "      <td>1</td>\n",
       "    </tr>\n",
       "    <tr>\n",
       "      <th>94</th>\n",
       "      <td>Slovak Republic</td>\n",
       "      <td>7.0</td>\n",
       "      <td>76.3</td>\n",
       "      <td>77.8</td>\n",
       "      <td>8.79</td>\n",
       "      <td>25200</td>\n",
       "      <td>0.485</td>\n",
       "      <td>75.5</td>\n",
       "      <td>1.43</td>\n",
       "      <td>16600</td>\n",
       "      <td>1</td>\n",
       "    </tr>\n",
       "    <tr>\n",
       "      <th>32</th>\n",
       "      <td>Czech Republic</td>\n",
       "      <td>3.4</td>\n",
       "      <td>66.0</td>\n",
       "      <td>62.9</td>\n",
       "      <td>7.88</td>\n",
       "      <td>28300</td>\n",
       "      <td>-1.430</td>\n",
       "      <td>77.5</td>\n",
       "      <td>1.51</td>\n",
       "      <td>19800</td>\n",
       "      <td>1</td>\n",
       "    </tr>\n",
       "    <tr>\n",
       "      <th>66</th>\n",
       "      <td>Libya</td>\n",
       "      <td>16.6</td>\n",
       "      <td>65.6</td>\n",
       "      <td>42.1</td>\n",
       "      <td>3.88</td>\n",
       "      <td>29600</td>\n",
       "      <td>14.200</td>\n",
       "      <td>76.1</td>\n",
       "      <td>2.41</td>\n",
       "      <td>12100</td>\n",
       "      <td>1</td>\n",
       "    </tr>\n",
       "    <tr>\n",
       "      <th>31</th>\n",
       "      <td>Cyprus</td>\n",
       "      <td>3.6</td>\n",
       "      <td>50.2</td>\n",
       "      <td>57.5</td>\n",
       "      <td>5.97</td>\n",
       "      <td>33900</td>\n",
       "      <td>2.010</td>\n",
       "      <td>79.9</td>\n",
       "      <td>1.42</td>\n",
       "      <td>30800</td>\n",
       "      <td>1</td>\n",
       "    </tr>\n",
       "    <tr>\n",
       "      <th>10</th>\n",
       "      <td>Bahrain</td>\n",
       "      <td>8.6</td>\n",
       "      <td>69.5</td>\n",
       "      <td>50.9</td>\n",
       "      <td>4.97</td>\n",
       "      <td>41100</td>\n",
       "      <td>7.440</td>\n",
       "      <td>76.0</td>\n",
       "      <td>2.16</td>\n",
       "      <td>20700</td>\n",
       "      <td>1</td>\n",
       "    </tr>\n",
       "    <tr>\n",
       "      <th>91</th>\n",
       "      <td>Saudi Arabia</td>\n",
       "      <td>15.7</td>\n",
       "      <td>49.6</td>\n",
       "      <td>33.0</td>\n",
       "      <td>4.29</td>\n",
       "      <td>45400</td>\n",
       "      <td>17.200</td>\n",
       "      <td>75.1</td>\n",
       "      <td>2.96</td>\n",
       "      <td>19300</td>\n",
       "      <td>1</td>\n",
       "    </tr>\n",
       "    <tr>\n",
       "      <th>61</th>\n",
       "      <td>Kuwait</td>\n",
       "      <td>10.8</td>\n",
       "      <td>66.7</td>\n",
       "      <td>30.4</td>\n",
       "      <td>2.63</td>\n",
       "      <td>75200</td>\n",
       "      <td>11.200</td>\n",
       "      <td>78.2</td>\n",
       "      <td>2.21</td>\n",
       "      <td>38500</td>\n",
       "      <td>1</td>\n",
       "    </tr>\n",
       "  </tbody>\n",
       "</table>\n",
       "</div>"
      ],
      "text/plain": [
       "                 country  child_mort  exports  imports  health  income  \\\n",
       "21              Cambodia        44.4     54.1     59.5    5.68    2520   \n",
       "62       Kyrgyz Republic        29.6     51.6     81.7    6.18    2790   \n",
       "116              Vietnam        23.3     72.0     80.2    6.84    4490   \n",
       "24            Cape Verde        26.5     32.7     61.8    4.09    5830   \n",
       "50                Guyana        37.6     51.4     79.1    5.38    5840   \n",
       "16                Bhutan        42.7     42.5     70.7    5.20    6420   \n",
       "82              Paraguay        24.1     55.1     51.5    5.87    7290   \n",
       "40                  Fiji        24.1     57.8     63.9    4.86    7350   \n",
       "14                Belize        18.8     58.2     57.5    5.20    7880   \n",
       "58                Jordan        21.1     48.3     69.0    8.04    9470   \n",
       "71              Maldives        13.2     77.6     65.4    6.33   10500   \n",
       "105             Thailand        14.9     66.5     60.8    3.88   13500   \n",
       "81                Panama        19.7     70.0     78.2    8.10   15400   \n",
       "42                 Gabon        63.7     57.7     18.9    3.50   15400   \n",
       "72             Mauritius        15.0     51.2     62.2    6.00   15900   \n",
       "13               Belarus         5.5     51.4     64.5    5.61   16200   \n",
       "3    Antigua and Barbuda        10.3     45.5     58.9    6.03   19100   \n",
       "67             Lithuania         6.1     65.3     67.2    7.04   21100   \n",
       "51               Hungary         6.0     81.8     76.5    7.33   22300   \n",
       "39               Estonia         4.5     75.1     68.7    6.03   22700   \n",
       "94       Slovak Republic         7.0     76.3     77.8    8.79   25200   \n",
       "32        Czech Republic         3.4     66.0     62.9    7.88   28300   \n",
       "66                 Libya        16.6     65.6     42.1    3.88   29600   \n",
       "31                Cyprus         3.6     50.2     57.5    5.97   33900   \n",
       "10               Bahrain         8.6     69.5     50.9    4.97   41100   \n",
       "91          Saudi Arabia        15.7     49.6     33.0    4.29   45400   \n",
       "61                Kuwait        10.8     66.7     30.4    2.63   75200   \n",
       "\n",
       "     inflation  life_expec  total_fer   gdpp  cluster_id  \n",
       "21       3.120        66.1       2.88    786           1  \n",
       "62      10.000        68.5       3.10    880           1  \n",
       "116     12.100        73.1       1.95   1310           1  \n",
       "24       0.505        72.5       2.67   3310           1  \n",
       "50       5.730        65.5       2.65   3040           1  \n",
       "16       5.990        72.1       2.38   2180           1  \n",
       "82       6.100        74.1       2.73   3230           1  \n",
       "40       4.230        65.3       2.67   3650           1  \n",
       "14       1.140        71.4       2.71   4340           1  \n",
       "58       8.430        75.8       3.66   3680           1  \n",
       "71       2.880        77.9       2.23   7100           1  \n",
       "105      4.080        76.6       1.55   5080           1  \n",
       "81       2.590        77.8       2.62   8080           1  \n",
       "42      16.600        62.9       4.08   8750           1  \n",
       "72       1.130        73.4       1.57   8000           1  \n",
       "13      15.100        70.4       1.49   6030           1  \n",
       "3        1.440        76.8       2.13  12200           1  \n",
       "67       2.380        73.2       1.50  12000           1  \n",
       "51       2.330        74.5       1.25  13100           1  \n",
       "39       1.740        76.0       1.72  14600           1  \n",
       "94       0.485        75.5       1.43  16600           1  \n",
       "32      -1.430        77.5       1.51  19800           1  \n",
       "66      14.200        76.1       2.41  12100           1  \n",
       "31       2.010        79.9       1.42  30800           1  \n",
       "10       7.440        76.0       2.16  20700           1  \n",
       "91      17.200        75.1       2.96  19300           1  \n",
       "61      11.200        78.2       2.21  38500           1  "
      ]
     },
     "execution_count": 45,
     "metadata": {},
     "output_type": "execute_result"
    }
   ],
   "source": [
    "# List of countries that needs to be focused on \n",
    "df_all[df_all['cluster_id']==1].sort_values(['income','child_mort'])"
   ]
  },
  {
   "cell_type": "code",
   "execution_count": 46,
   "metadata": {},
   "outputs": [
    {
     "data": {
      "text/html": [
       "<div>\n",
       "<style scoped>\n",
       "    .dataframe tbody tr th:only-of-type {\n",
       "        vertical-align: middle;\n",
       "    }\n",
       "\n",
       "    .dataframe tbody tr th {\n",
       "        vertical-align: top;\n",
       "    }\n",
       "\n",
       "    .dataframe thead th {\n",
       "        text-align: right;\n",
       "    }\n",
       "</style>\n",
       "<table border=\"1\" class=\"dataframe\">\n",
       "  <thead>\n",
       "    <tr style=\"text-align: right;\">\n",
       "      <th></th>\n",
       "      <th>country</th>\n",
       "      <th>child_mort</th>\n",
       "      <th>exports</th>\n",
       "      <th>imports</th>\n",
       "      <th>health</th>\n",
       "      <th>income</th>\n",
       "      <th>inflation</th>\n",
       "      <th>life_expec</th>\n",
       "      <th>total_fer</th>\n",
       "      <th>gdpp</th>\n",
       "      <th>cluster_id</th>\n",
       "    </tr>\n",
       "  </thead>\n",
       "  <tbody>\n",
       "    <tr>\n",
       "      <th>21</th>\n",
       "      <td>Cambodia</td>\n",
       "      <td>44.4</td>\n",
       "      <td>54.1</td>\n",
       "      <td>59.5</td>\n",
       "      <td>5.68</td>\n",
       "      <td>2520</td>\n",
       "      <td>3.120</td>\n",
       "      <td>66.1</td>\n",
       "      <td>2.88</td>\n",
       "      <td>786</td>\n",
       "      <td>1</td>\n",
       "    </tr>\n",
       "    <tr>\n",
       "      <th>62</th>\n",
       "      <td>Kyrgyz Republic</td>\n",
       "      <td>29.6</td>\n",
       "      <td>51.6</td>\n",
       "      <td>81.7</td>\n",
       "      <td>6.18</td>\n",
       "      <td>2790</td>\n",
       "      <td>10.000</td>\n",
       "      <td>68.5</td>\n",
       "      <td>3.10</td>\n",
       "      <td>880</td>\n",
       "      <td>1</td>\n",
       "    </tr>\n",
       "    <tr>\n",
       "      <th>116</th>\n",
       "      <td>Vietnam</td>\n",
       "      <td>23.3</td>\n",
       "      <td>72.0</td>\n",
       "      <td>80.2</td>\n",
       "      <td>6.84</td>\n",
       "      <td>4490</td>\n",
       "      <td>12.100</td>\n",
       "      <td>73.1</td>\n",
       "      <td>1.95</td>\n",
       "      <td>1310</td>\n",
       "      <td>1</td>\n",
       "    </tr>\n",
       "    <tr>\n",
       "      <th>24</th>\n",
       "      <td>Cape Verde</td>\n",
       "      <td>26.5</td>\n",
       "      <td>32.7</td>\n",
       "      <td>61.8</td>\n",
       "      <td>4.09</td>\n",
       "      <td>5830</td>\n",
       "      <td>0.505</td>\n",
       "      <td>72.5</td>\n",
       "      <td>2.67</td>\n",
       "      <td>3310</td>\n",
       "      <td>1</td>\n",
       "    </tr>\n",
       "    <tr>\n",
       "      <th>50</th>\n",
       "      <td>Guyana</td>\n",
       "      <td>37.6</td>\n",
       "      <td>51.4</td>\n",
       "      <td>79.1</td>\n",
       "      <td>5.38</td>\n",
       "      <td>5840</td>\n",
       "      <td>5.730</td>\n",
       "      <td>65.5</td>\n",
       "      <td>2.65</td>\n",
       "      <td>3040</td>\n",
       "      <td>1</td>\n",
       "    </tr>\n",
       "    <tr>\n",
       "      <th>16</th>\n",
       "      <td>Bhutan</td>\n",
       "      <td>42.7</td>\n",
       "      <td>42.5</td>\n",
       "      <td>70.7</td>\n",
       "      <td>5.20</td>\n",
       "      <td>6420</td>\n",
       "      <td>5.990</td>\n",
       "      <td>72.1</td>\n",
       "      <td>2.38</td>\n",
       "      <td>2180</td>\n",
       "      <td>1</td>\n",
       "    </tr>\n",
       "    <tr>\n",
       "      <th>82</th>\n",
       "      <td>Paraguay</td>\n",
       "      <td>24.1</td>\n",
       "      <td>55.1</td>\n",
       "      <td>51.5</td>\n",
       "      <td>5.87</td>\n",
       "      <td>7290</td>\n",
       "      <td>6.100</td>\n",
       "      <td>74.1</td>\n",
       "      <td>2.73</td>\n",
       "      <td>3230</td>\n",
       "      <td>1</td>\n",
       "    </tr>\n",
       "    <tr>\n",
       "      <th>40</th>\n",
       "      <td>Fiji</td>\n",
       "      <td>24.1</td>\n",
       "      <td>57.8</td>\n",
       "      <td>63.9</td>\n",
       "      <td>4.86</td>\n",
       "      <td>7350</td>\n",
       "      <td>4.230</td>\n",
       "      <td>65.3</td>\n",
       "      <td>2.67</td>\n",
       "      <td>3650</td>\n",
       "      <td>1</td>\n",
       "    </tr>\n",
       "    <tr>\n",
       "      <th>14</th>\n",
       "      <td>Belize</td>\n",
       "      <td>18.8</td>\n",
       "      <td>58.2</td>\n",
       "      <td>57.5</td>\n",
       "      <td>5.20</td>\n",
       "      <td>7880</td>\n",
       "      <td>1.140</td>\n",
       "      <td>71.4</td>\n",
       "      <td>2.71</td>\n",
       "      <td>4340</td>\n",
       "      <td>1</td>\n",
       "    </tr>\n",
       "    <tr>\n",
       "      <th>58</th>\n",
       "      <td>Jordan</td>\n",
       "      <td>21.1</td>\n",
       "      <td>48.3</td>\n",
       "      <td>69.0</td>\n",
       "      <td>8.04</td>\n",
       "      <td>9470</td>\n",
       "      <td>8.430</td>\n",
       "      <td>75.8</td>\n",
       "      <td>3.66</td>\n",
       "      <td>3680</td>\n",
       "      <td>1</td>\n",
       "    </tr>\n",
       "  </tbody>\n",
       "</table>\n",
       "</div>"
      ],
      "text/plain": [
       "             country  child_mort  exports  imports  health  income  inflation  \\\n",
       "21          Cambodia        44.4     54.1     59.5    5.68    2520      3.120   \n",
       "62   Kyrgyz Republic        29.6     51.6     81.7    6.18    2790     10.000   \n",
       "116          Vietnam        23.3     72.0     80.2    6.84    4490     12.100   \n",
       "24        Cape Verde        26.5     32.7     61.8    4.09    5830      0.505   \n",
       "50            Guyana        37.6     51.4     79.1    5.38    5840      5.730   \n",
       "16            Bhutan        42.7     42.5     70.7    5.20    6420      5.990   \n",
       "82          Paraguay        24.1     55.1     51.5    5.87    7290      6.100   \n",
       "40              Fiji        24.1     57.8     63.9    4.86    7350      4.230   \n",
       "14            Belize        18.8     58.2     57.5    5.20    7880      1.140   \n",
       "58            Jordan        21.1     48.3     69.0    8.04    9470      8.430   \n",
       "\n",
       "     life_expec  total_fer  gdpp  cluster_id  \n",
       "21         66.1       2.88   786           1  \n",
       "62         68.5       3.10   880           1  \n",
       "116        73.1       1.95  1310           1  \n",
       "24         72.5       2.67  3310           1  \n",
       "50         65.5       2.65  3040           1  \n",
       "16         72.1       2.38  2180           1  \n",
       "82         74.1       2.73  3230           1  \n",
       "40         65.3       2.67  3650           1  \n",
       "14         71.4       2.71  4340           1  \n",
       "58         75.8       3.66  3680           1  "
      ]
     },
     "execution_count": 46,
     "metadata": {},
     "output_type": "execute_result"
    }
   ],
   "source": [
    "# choosing Top 10 List of countries that need to be focused on  based on income, child mortality using Hierarchical clustering\n",
    "df_all[df_all['cluster_id']==1].sort_values(['income','child_mort']).head(10)"
   ]
  },
  {
   "cell_type": "markdown",
   "metadata": {},
   "source": [
    "# Hierarchical Clustering"
   ]
  },
  {
   "cell_type": "code",
   "execution_count": 47,
   "metadata": {},
   "outputs": [
    {
     "data": {
      "image/png": "[encoded data removed]",
      "text/plain": [
       "<Figure size 432x288 with 1 Axes>"
      ]
     },
     "metadata": {
      "needs_background": "light"
     },
     "output_type": "display_data"
    }
   ],
   "source": [
    "# Let's try Hierarchical clusterung with single linkage\n",
    "mergings = linkage(new_df1, method=\"single\", metric='euclidean')\n",
    "dendrogram(mergings)\n",
    "plt.show()"
   ]
  },
  {
   "cell_type": "code",
   "execution_count": 48,
   "metadata": {},
   "outputs": [
    {
     "data": {
      "image/png": "[encoded data removed]",
      "text/plain": [
       "<Figure size 432x288 with 1 Axes>"
      ]
     },
     "metadata": {
      "needs_background": "light"
     },
     "output_type": "display_data"
    }
   ],
   "source": [
    "#single linkage is not working as expected, lets go with complete linkage\n",
    "#complete linkage \n",
    "mergings = linkage(new_df1, method=\"complete\", metric='euclidean')\n",
    "dendrogram(mergings)\n",
    "plt.show()"
   ]
  },
  {
   "cell_type": "code",
   "execution_count": 49,
   "metadata": {},
   "outputs": [
    {
     "data": {
      "text/plain": [
       "array([0, 1, 1, 2, 1, 1, 2, 2, 1, 2, 3, 1, 2, 3, 1, 0, 1, 1, 2, 0, 2, 1,\n",
       "       0, 2, 1, 1, 1, 0, 2, 0, 2, 2, 2, 2, 2, 2, 1, 2, 1, 3, 3, 2, 1, 0,\n",
       "       2, 2, 1, 2, 2, 0, 3, 3, 2, 1, 1, 1, 2, 1, 1, 1, 4, 3, 3, 1, 2, 2,\n",
       "       3, 3, 2, 1, 0, 3, 2, 4, 2, 2, 0, 0, 1, 2, 1, 3, 1, 1, 1, 2, 2, 1,\n",
       "       1, 4, 1, 3, 0, 2, 3, 2, 0, 4, 2, 1, 4, 1, 2, 1, 0, 3, 4, 1, 1, 1,\n",
       "       0, 1, 2, 2, 1, 1, 3, 1, 0])"
      ]
     },
     "execution_count": 49,
     "metadata": {},
     "output_type": "execute_result"
    }
   ],
   "source": [
    "# 5 clusters\n",
    "cluster_labels = cut_tree(mergings, n_clusters=5).reshape(-1, )\n",
    "cluster_labels"
   ]
  },
  {
   "cell_type": "code",
   "execution_count": 50,
   "metadata": {},
   "outputs": [
    {
     "name": "stderr",
     "output_type": "stream",
     "text": [
      "O:\\AAnaconda_IIIT\\lib\\site-packages\\ipykernel_launcher.py:2: SettingWithCopyWarning: \n",
      "A value is trying to be set on a copy of a slice from a DataFrame.\n",
      "Try using .loc[row_indexer,col_indexer] = value instead\n",
      "\n",
      "See the caveats in the documentation: http://pandas.pydata.org/pandas-docs/stable/indexing.html#indexing-view-versus-copy\n",
      "  \n"
     ]
    },
    {
     "data": {
      "text/html": [
       "<div>\n",
       "<style scoped>\n",
       "    .dataframe tbody tr th:only-of-type {\n",
       "        vertical-align: middle;\n",
       "    }\n",
       "\n",
       "    .dataframe tbody tr th {\n",
       "        vertical-align: top;\n",
       "    }\n",
       "\n",
       "    .dataframe thead th {\n",
       "        text-align: right;\n",
       "    }\n",
       "</style>\n",
       "<table border=\"1\" class=\"dataframe\">\n",
       "  <thead>\n",
       "    <tr style=\"text-align: right;\">\n",
       "      <th></th>\n",
       "      <th>country</th>\n",
       "      <th>child_mort</th>\n",
       "      <th>exports</th>\n",
       "      <th>imports</th>\n",
       "      <th>health</th>\n",
       "      <th>income</th>\n",
       "      <th>inflation</th>\n",
       "      <th>life_expec</th>\n",
       "      <th>total_fer</th>\n",
       "      <th>gdpp</th>\n",
       "      <th>cluster_id</th>\n",
       "      <th>cluster_labels</th>\n",
       "    </tr>\n",
       "  </thead>\n",
       "  <tbody>\n",
       "    <tr>\n",
       "      <th>0</th>\n",
       "      <td>Afghanistan</td>\n",
       "      <td>90.2</td>\n",
       "      <td>10.0</td>\n",
       "      <td>44.9</td>\n",
       "      <td>7.58</td>\n",
       "      <td>1610</td>\n",
       "      <td>9.44</td>\n",
       "      <td>56.2</td>\n",
       "      <td>5.82</td>\n",
       "      <td>553</td>\n",
       "      <td>3</td>\n",
       "      <td>0</td>\n",
       "    </tr>\n",
       "    <tr>\n",
       "      <th>1</th>\n",
       "      <td>Albania</td>\n",
       "      <td>16.6</td>\n",
       "      <td>28.0</td>\n",
       "      <td>48.6</td>\n",
       "      <td>6.55</td>\n",
       "      <td>9930</td>\n",
       "      <td>4.49</td>\n",
       "      <td>76.3</td>\n",
       "      <td>1.65</td>\n",
       "      <td>4090</td>\n",
       "      <td>2</td>\n",
       "      <td>1</td>\n",
       "    </tr>\n",
       "    <tr>\n",
       "      <th>2</th>\n",
       "      <td>Algeria</td>\n",
       "      <td>27.3</td>\n",
       "      <td>38.4</td>\n",
       "      <td>31.4</td>\n",
       "      <td>4.17</td>\n",
       "      <td>12900</td>\n",
       "      <td>16.10</td>\n",
       "      <td>76.5</td>\n",
       "      <td>2.89</td>\n",
       "      <td>4460</td>\n",
       "      <td>4</td>\n",
       "      <td>1</td>\n",
       "    </tr>\n",
       "    <tr>\n",
       "      <th>3</th>\n",
       "      <td>Antigua and Barbuda</td>\n",
       "      <td>10.3</td>\n",
       "      <td>45.5</td>\n",
       "      <td>58.9</td>\n",
       "      <td>6.03</td>\n",
       "      <td>19100</td>\n",
       "      <td>1.44</td>\n",
       "      <td>76.8</td>\n",
       "      <td>2.13</td>\n",
       "      <td>12200</td>\n",
       "      <td>1</td>\n",
       "      <td>2</td>\n",
       "    </tr>\n",
       "    <tr>\n",
       "      <th>4</th>\n",
       "      <td>Argentina</td>\n",
       "      <td>14.5</td>\n",
       "      <td>18.9</td>\n",
       "      <td>16.0</td>\n",
       "      <td>8.10</td>\n",
       "      <td>18700</td>\n",
       "      <td>20.90</td>\n",
       "      <td>75.8</td>\n",
       "      <td>2.37</td>\n",
       "      <td>10300</td>\n",
       "      <td>4</td>\n",
       "      <td>1</td>\n",
       "    </tr>\n",
       "  </tbody>\n",
       "</table>\n",
       "</div>"
      ],
      "text/plain": [
       "               country  child_mort  exports  imports  health  income  \\\n",
       "0          Afghanistan        90.2     10.0     44.9    7.58    1610   \n",
       "1              Albania        16.6     28.0     48.6    6.55    9930   \n",
       "2              Algeria        27.3     38.4     31.4    4.17   12900   \n",
       "3  Antigua and Barbuda        10.3     45.5     58.9    6.03   19100   \n",
       "4            Argentina        14.5     18.9     16.0    8.10   18700   \n",
       "\n",
       "   inflation  life_expec  total_fer   gdpp  cluster_id  cluster_labels  \n",
       "0       9.44        56.2       5.82    553           3               0  \n",
       "1       4.49        76.3       1.65   4090           2               1  \n",
       "2      16.10        76.5       2.89   4460           4               1  \n",
       "3       1.44        76.8       2.13  12200           1               2  \n",
       "4      20.90        75.8       2.37  10300           4               1  "
      ]
     },
     "execution_count": 50,
     "metadata": {},
     "output_type": "execute_result"
    }
   ],
   "source": [
    "# assign cluster labels (Hierarchical Clustering)\n",
    "df_all['cluster_labels'] = cluster_labels\n",
    "df_all.head()\n"
   ]
  },
  {
   "cell_type": "code",
   "execution_count": 51,
   "metadata": {},
   "outputs": [
    {
     "data": {
      "text/plain": [
       "<matplotlib.axes._subplots.AxesSubplot at 0x2978eedcb00>"
      ]
     },
     "execution_count": 51,
     "metadata": {},
     "output_type": "execute_result"
    },
    {
     "data": {
      "image/png": "[encoded data removed]",
      "text/plain": [
       "<Figure size 432x288 with 1 Axes>"
      ]
     },
     "metadata": {
      "needs_background": "light"
     },
     "output_type": "display_data"
    }
   ],
   "source": [
    " # visualisation using  two of the original variables (like gdpp, child_mort, etc.) using Hierarchical clustering\n",
    "sns.scatterplot(x='child_mort',y='gdpp',hue='cluster_labels',data=df_all)"
   ]
  },
  {
   "cell_type": "markdown",
   "metadata": {},
   "source": [
    "child Mortality rate is very high in the countries which has low income and most of the countries lie in cluster 1 "
   ]
  },
  {
   "cell_type": "code",
   "execution_count": 52,
   "metadata": {},
   "outputs": [
    {
     "data": {
      "text/plain": [
       "<matplotlib.axes._subplots.AxesSubplot at 0x2978dcb04a8>"
      ]
     },
     "execution_count": 52,
     "metadata": {},
     "output_type": "execute_result"
    },
    {
     "data": {
      "image/png": "[encoded data removed]",
      "text/plain": [
       "<Figure size 432x288 with 1 Axes>"
      ]
     },
     "metadata": {
      "needs_background": "light"
     },
     "output_type": "display_data"
    }
   ],
   "source": [
    "#visualisation using  two of the original variables -gdpp and Income  using Hierarchical clustering\n",
    "sns.scatterplot(x='income',y='gdpp',hue='cluster_labels',data=df_all)"
   ]
  },
  {
   "cell_type": "code",
   "execution_count": 53,
   "metadata": {},
   "outputs": [
    {
     "data": {
      "text/plain": [
       "<matplotlib.axes._subplots.AxesSubplot at 0x2978de2cdd8>"
      ]
     },
     "execution_count": 53,
     "metadata": {},
     "output_type": "execute_result"
    },
    {
     "data": {
      "image/png": "[encoded data removed]",
      "text/plain": [
       "<Figure size 432x288 with 1 Axes>"
      ]
     },
     "metadata": {
      "needs_background": "light"
     },
     "output_type": "display_data"
    }
   ],
   "source": [
    "# box plot - -cluster_id and Income using Hierarchical clustering\n",
    "sns.boxplot(x='cluster_labels', y='income', data=df_all)"
   ]
  },
  {
   "cell_type": "code",
   "execution_count": 54,
   "metadata": {},
   "outputs": [
    {
     "data": {
      "text/plain": [
       "<matplotlib.axes._subplots.AxesSubplot at 0x2978ef4c550>"
      ]
     },
     "execution_count": 54,
     "metadata": {},
     "output_type": "execute_result"
    },
    {
     "data": {
      "image/png": "[encoded data removed]",
      "text/plain": [
       "<Figure size 432x288 with 1 Axes>"
      ]
     },
     "metadata": {
      "needs_background": "light"
     },
     "output_type": "display_data"
    }
   ],
   "source": [
    "# box plot - -cluster_id and child mortality using Hierarchical clustering\n",
    "sns.boxplot(x='cluster_labels', y='child_mort', data=df_all)"
   ]
  },
  {
   "cell_type": "code",
   "execution_count": 55,
   "metadata": {},
   "outputs": [
    {
     "data": {
      "text/plain": [
       "<matplotlib.axes._subplots.AxesSubplot at 0x2978eebeb00>"
      ]
     },
     "execution_count": 55,
     "metadata": {},
     "output_type": "execute_result"
    },
    {
     "data": {
      "image/png": "[encoded data removed]",
      "text/plain": [
       "<Figure size 432x288 with 1 Axes>"
      ]
     },
     "metadata": {
      "needs_background": "light"
     },
     "output_type": "display_data"
    }
   ],
   "source": [
    "# box plot - -cluster_id and gdpp using Hierarchical clustering\n",
    "sns.boxplot(x='cluster_labels', y='gdpp', data=df_all)"
   ]
  },
  {
   "cell_type": "markdown",
   "metadata": {},
   "source": [
    "## By considering child mortality, gdpp and income we can clearly say that cluster id = 0 are the countries that we need to focus much on.Below is the list of countries\n",
    "\n"
   ]
  },
  {
   "cell_type": "code",
   "execution_count": 56,
   "metadata": {},
   "outputs": [
    {
     "data": {
      "text/html": [
       "<div>\n",
       "<style scoped>\n",
       "    .dataframe tbody tr th:only-of-type {\n",
       "        vertical-align: middle;\n",
       "    }\n",
       "\n",
       "    .dataframe tbody tr th {\n",
       "        vertical-align: top;\n",
       "    }\n",
       "\n",
       "    .dataframe thead th {\n",
       "        text-align: right;\n",
       "    }\n",
       "</style>\n",
       "<table border=\"1\" class=\"dataframe\">\n",
       "  <thead>\n",
       "    <tr style=\"text-align: right;\">\n",
       "      <th></th>\n",
       "      <th>country</th>\n",
       "      <th>child_mort</th>\n",
       "      <th>exports</th>\n",
       "      <th>imports</th>\n",
       "      <th>health</th>\n",
       "      <th>income</th>\n",
       "      <th>inflation</th>\n",
       "      <th>life_expec</th>\n",
       "      <th>total_fer</th>\n",
       "      <th>gdpp</th>\n",
       "      <th>cluster_id</th>\n",
       "      <th>cluster_labels</th>\n",
       "    </tr>\n",
       "  </thead>\n",
       "  <tbody>\n",
       "    <tr>\n",
       "      <th>76</th>\n",
       "      <td>Mozambique</td>\n",
       "      <td>101.0</td>\n",
       "      <td>31.5</td>\n",
       "      <td>46.2</td>\n",
       "      <td>5.21</td>\n",
       "      <td>918</td>\n",
       "      <td>7.640</td>\n",
       "      <td>54.5</td>\n",
       "      <td>5.56</td>\n",
       "      <td>419</td>\n",
       "      <td>3</td>\n",
       "      <td>0</td>\n",
       "    </tr>\n",
       "    <tr>\n",
       "      <th>70</th>\n",
       "      <td>Malawi</td>\n",
       "      <td>90.5</td>\n",
       "      <td>22.8</td>\n",
       "      <td>34.9</td>\n",
       "      <td>6.59</td>\n",
       "      <td>1030</td>\n",
       "      <td>12.100</td>\n",
       "      <td>53.1</td>\n",
       "      <td>5.31</td>\n",
       "      <td>459</td>\n",
       "      <td>3</td>\n",
       "      <td>0</td>\n",
       "    </tr>\n",
       "    <tr>\n",
       "      <th>49</th>\n",
       "      <td>Guinea</td>\n",
       "      <td>109.0</td>\n",
       "      <td>30.3</td>\n",
       "      <td>43.2</td>\n",
       "      <td>4.93</td>\n",
       "      <td>1190</td>\n",
       "      <td>16.100</td>\n",
       "      <td>58.0</td>\n",
       "      <td>5.34</td>\n",
       "      <td>648</td>\n",
       "      <td>3</td>\n",
       "      <td>0</td>\n",
       "    </tr>\n",
       "    <tr>\n",
       "      <th>27</th>\n",
       "      <td>Comoros</td>\n",
       "      <td>88.2</td>\n",
       "      <td>16.5</td>\n",
       "      <td>51.7</td>\n",
       "      <td>4.51</td>\n",
       "      <td>1410</td>\n",
       "      <td>3.870</td>\n",
       "      <td>65.9</td>\n",
       "      <td>4.75</td>\n",
       "      <td>769</td>\n",
       "      <td>3</td>\n",
       "      <td>0</td>\n",
       "    </tr>\n",
       "    <tr>\n",
       "      <th>110</th>\n",
       "      <td>Uganda</td>\n",
       "      <td>81.0</td>\n",
       "      <td>17.1</td>\n",
       "      <td>28.6</td>\n",
       "      <td>9.01</td>\n",
       "      <td>1540</td>\n",
       "      <td>10.600</td>\n",
       "      <td>56.8</td>\n",
       "      <td>6.15</td>\n",
       "      <td>595</td>\n",
       "      <td>3</td>\n",
       "      <td>0</td>\n",
       "    </tr>\n",
       "    <tr>\n",
       "      <th>0</th>\n",
       "      <td>Afghanistan</td>\n",
       "      <td>90.2</td>\n",
       "      <td>10.0</td>\n",
       "      <td>44.9</td>\n",
       "      <td>7.58</td>\n",
       "      <td>1610</td>\n",
       "      <td>9.440</td>\n",
       "      <td>56.2</td>\n",
       "      <td>5.82</td>\n",
       "      <td>553</td>\n",
       "      <td>3</td>\n",
       "      <td>0</td>\n",
       "    </tr>\n",
       "    <tr>\n",
       "      <th>43</th>\n",
       "      <td>Gambia</td>\n",
       "      <td>80.3</td>\n",
       "      <td>23.8</td>\n",
       "      <td>42.7</td>\n",
       "      <td>5.69</td>\n",
       "      <td>1660</td>\n",
       "      <td>4.300</td>\n",
       "      <td>65.5</td>\n",
       "      <td>5.71</td>\n",
       "      <td>562</td>\n",
       "      <td>3</td>\n",
       "      <td>0</td>\n",
       "    </tr>\n",
       "    <tr>\n",
       "      <th>96</th>\n",
       "      <td>Solomon Islands</td>\n",
       "      <td>28.1</td>\n",
       "      <td>49.3</td>\n",
       "      <td>81.2</td>\n",
       "      <td>8.55</td>\n",
       "      <td>1780</td>\n",
       "      <td>6.810</td>\n",
       "      <td>61.7</td>\n",
       "      <td>4.24</td>\n",
       "      <td>1290</td>\n",
       "      <td>3</td>\n",
       "      <td>0</td>\n",
       "    </tr>\n",
       "    <tr>\n",
       "      <th>15</th>\n",
       "      <td>Benin</td>\n",
       "      <td>111.0</td>\n",
       "      <td>23.8</td>\n",
       "      <td>37.2</td>\n",
       "      <td>4.10</td>\n",
       "      <td>1820</td>\n",
       "      <td>0.885</td>\n",
       "      <td>61.8</td>\n",
       "      <td>5.36</td>\n",
       "      <td>758</td>\n",
       "      <td>3</td>\n",
       "      <td>0</td>\n",
       "    </tr>\n",
       "    <tr>\n",
       "      <th>104</th>\n",
       "      <td>Tanzania</td>\n",
       "      <td>71.9</td>\n",
       "      <td>18.7</td>\n",
       "      <td>29.1</td>\n",
       "      <td>6.01</td>\n",
       "      <td>2090</td>\n",
       "      <td>9.250</td>\n",
       "      <td>59.3</td>\n",
       "      <td>5.43</td>\n",
       "      <td>702</td>\n",
       "      <td>3</td>\n",
       "      <td>0</td>\n",
       "    </tr>\n",
       "  </tbody>\n",
       "</table>\n",
       "</div>"
      ],
      "text/plain": [
       "             country  child_mort  exports  imports  health  income  inflation  \\\n",
       "76        Mozambique       101.0     31.5     46.2    5.21     918      7.640   \n",
       "70            Malawi        90.5     22.8     34.9    6.59    1030     12.100   \n",
       "49            Guinea       109.0     30.3     43.2    4.93    1190     16.100   \n",
       "27           Comoros        88.2     16.5     51.7    4.51    1410      3.870   \n",
       "110           Uganda        81.0     17.1     28.6    9.01    1540     10.600   \n",
       "0        Afghanistan        90.2     10.0     44.9    7.58    1610      9.440   \n",
       "43            Gambia        80.3     23.8     42.7    5.69    1660      4.300   \n",
       "96   Solomon Islands        28.1     49.3     81.2    8.55    1780      6.810   \n",
       "15             Benin       111.0     23.8     37.2    4.10    1820      0.885   \n",
       "104         Tanzania        71.9     18.7     29.1    6.01    2090      9.250   \n",
       "\n",
       "     life_expec  total_fer  gdpp  cluster_id  cluster_labels  \n",
       "76         54.5       5.56   419           3               0  \n",
       "70         53.1       5.31   459           3               0  \n",
       "49         58.0       5.34   648           3               0  \n",
       "27         65.9       4.75   769           3               0  \n",
       "110        56.8       6.15   595           3               0  \n",
       "0          56.2       5.82   553           3               0  \n",
       "43         65.5       5.71   562           3               0  \n",
       "96         61.7       4.24  1290           3               0  \n",
       "15         61.8       5.36   758           3               0  \n",
       "104        59.3       5.43   702           3               0  "
      ]
     },
     "execution_count": 56,
     "metadata": {},
     "output_type": "execute_result"
    }
   ],
   "source": [
    "# Top 10 List of countries that need to be focused on  based on income, child mortality using Hierarchical clustering \n",
    "df_all[df_all['cluster_labels']==0].sort_values(['income','child_mort']).head(10)\n"
   ]
  },
  {
   "cell_type": "markdown",
   "metadata": {},
   "source": [
    "## By looking Hirerachial and K means clustering the top 5 countries which are in direct need of aid from the analysis are \n",
    "1. MozambiquE\n",
    "2. Malawi\n",
    "3. GuineA\n",
    "4. Comoros \n",
    "5. Uganda"
   ]
  },
  {
   "cell_type": "code",
   "execution_count": null,
   "metadata": {},
   "outputs": [],
   "source": []
  },
  {
   "cell_type": "code",
   "execution_count": null,
   "metadata": {},
   "outputs": [],
   "source": []
  },
  {
   "cell_type": "code",
   "execution_count": null,
   "metadata": {},
   "outputs": [],
   "source": []
  },
  {
   "cell_type": "code",
   "execution_count": null,
   "metadata": {},
   "outputs": [],
   "source": []
  }
 ],
 "metadata": {
  "kernelspec": {
   "display_name": "Python 3",
   "language": "python",
   "name": "python3"
  },
  "language_info": {
   "codemirror_mode": {
    "name": "ipython",
    "version": 3
   },
   "file_extension": ".py",
   "mimetype": "text/x-python",
   "name": "python",
   "nbconvert_exporter": "python",
   "pygments_lexer": "ipython3",
   "version": "3.7.3"
  }
 },
 "nbformat": 4,
 "nbformat_minor": 2
}
